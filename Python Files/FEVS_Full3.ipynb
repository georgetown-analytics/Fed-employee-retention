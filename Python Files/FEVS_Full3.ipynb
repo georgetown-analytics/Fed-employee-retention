{
 "cells": [
  {
   "cell_type": "code",
   "execution_count": 2,
   "metadata": {},
   "outputs": [
    {
     "name": "stderr",
     "output_type": "stream",
     "text": [
      "C:\\Users\\Jungd\\Anaconda3\\lib\\site-packages\\sklearn\\utils\\deprecation.py:144: FutureWarning: The sklearn.metrics.classification module is  deprecated in version 0.22 and will be removed in version 0.24. The corresponding classes / functions should instead be imported from sklearn.metrics. Anything that cannot be imported from sklearn.metrics is now part of the private API.\n",
      "  warnings.warn(message, FutureWarning)\n"
     ]
    }
   ],
   "source": [
    "import pandas as pd\n",
    "import numpy as np\n",
    "import matplotlib.pyplot as plt\n",
    "import scipy\n",
    "import statsmodels as sm\n",
    "import seaborn as sns\n",
    "import yellowbrick as yb\n",
    "%matplotlib inline\n",
    "sns.set()"
   ]
  },
  {
   "cell_type": "code",
   "execution_count": 3,
   "metadata": {},
   "outputs": [],
   "source": [
    "df = pd.read_csv(\"C:/Users/Jungd/Desktop/Data_Science/Survey_2020/FEVS_2019_PRDF_Clean.csv\")\n",
    "pd.set_option('display.float_format', lambda x: '%.2f' % x)"
   ]
  },
  {
   "cell_type": "code",
   "execution_count": 4,
   "metadata": {},
   "outputs": [
    {
     "data": {
      "text/plain": [
       "(246068, 80)"
      ]
     },
     "execution_count": 4,
     "metadata": {},
     "output_type": "execute_result"
    }
   ],
   "source": [
    "df.shape"
   ]
  },
  {
   "cell_type": "code",
   "execution_count": 5,
   "metadata": {},
   "outputs": [
    {
     "data": {
      "text/plain": [
       "Index(['Unnamed: 0', 'AGENCY', 'LEVEL1', 'leaving', 'sex', 'education',\n",
       "       'tenure', 'supervisor', 'minority', 'Q1', 'Q2', 'Q3', 'Q4', 'Q5', 'Q6',\n",
       "       'Q7', 'Q8', 'Q9', 'Q10', 'Q11', 'Q12', 'Q13', 'Q14', 'Q15', 'Q16',\n",
       "       'Q17', 'Q18', 'Q19', 'Q20', 'Q21', 'Q22', 'Q23', 'Q24', 'Q25', 'Q26',\n",
       "       'Q27', 'Q28', 'Q29', 'Q30', 'Q31', 'Q32', 'Q33', 'Q34', 'Q35', 'Q36',\n",
       "       'Q37', 'Q38', 'Q39', 'Q40', 'Q41', 'Q42', 'Q43', 'Q44', 'Q45', 'Q46',\n",
       "       'Q47', 'Q48', 'Q49', 'Q50', 'Q51', 'Q52', 'Q53', 'Q54', 'Q55', 'Q56',\n",
       "       'Q57', 'Q58', 'Q59', 'Q60', 'Q61', 'Q62', 'Q63', 'Q64', 'Q65', 'Q66',\n",
       "       'Q67', 'Q68', 'Q69', 'Q70', 'Q71'],\n",
       "      dtype='object')"
      ]
     },
     "execution_count": 5,
     "metadata": {},
     "output_type": "execute_result"
    }
   ],
   "source": [
    "df.columns"
   ]
  },
  {
   "cell_type": "code",
   "execution_count": 6,
   "metadata": {},
   "outputs": [
    {
     "data": {
      "text/html": [
       "<div>\n",
       "<style scoped>\n",
       "    .dataframe tbody tr th:only-of-type {\n",
       "        vertical-align: middle;\n",
       "    }\n",
       "\n",
       "    .dataframe tbody tr th {\n",
       "        vertical-align: top;\n",
       "    }\n",
       "\n",
       "    .dataframe thead th {\n",
       "        text-align: right;\n",
       "    }\n",
       "</style>\n",
       "<table border=\"1\" class=\"dataframe\">\n",
       "  <thead>\n",
       "    <tr style=\"text-align: right;\">\n",
       "      <th></th>\n",
       "      <th>Unnamed: 0</th>\n",
       "      <th>leaving</th>\n",
       "      <th>sex</th>\n",
       "      <th>education</th>\n",
       "      <th>tenure</th>\n",
       "      <th>supervisor</th>\n",
       "      <th>minority</th>\n",
       "      <th>Q1</th>\n",
       "      <th>Q2</th>\n",
       "      <th>Q3</th>\n",
       "      <th>...</th>\n",
       "      <th>Q62</th>\n",
       "      <th>Q63</th>\n",
       "      <th>Q64</th>\n",
       "      <th>Q65</th>\n",
       "      <th>Q66</th>\n",
       "      <th>Q67</th>\n",
       "      <th>Q68</th>\n",
       "      <th>Q69</th>\n",
       "      <th>Q70</th>\n",
       "      <th>Q71</th>\n",
       "    </tr>\n",
       "  </thead>\n",
       "  <tbody>\n",
       "    <tr>\n",
       "      <th>count</th>\n",
       "      <td>246068.00</td>\n",
       "      <td>246068.00</td>\n",
       "      <td>246068.00</td>\n",
       "      <td>246068.00</td>\n",
       "      <td>246068.00</td>\n",
       "      <td>246068.00</td>\n",
       "      <td>246068.00</td>\n",
       "      <td>246068.00</td>\n",
       "      <td>246068.00</td>\n",
       "      <td>246068.00</td>\n",
       "      <td>...</td>\n",
       "      <td>246068.00</td>\n",
       "      <td>246068.00</td>\n",
       "      <td>246068.00</td>\n",
       "      <td>246068.00</td>\n",
       "      <td>246068.00</td>\n",
       "      <td>246068.00</td>\n",
       "      <td>246068.00</td>\n",
       "      <td>246068.00</td>\n",
       "      <td>246068.00</td>\n",
       "      <td>246068.00</td>\n",
       "    </tr>\n",
       "    <tr>\n",
       "      <th>mean</th>\n",
       "      <td>188514.80</td>\n",
       "      <td>0.23</td>\n",
       "      <td>0.42</td>\n",
       "      <td>2.09</td>\n",
       "      <td>1.81</td>\n",
       "      <td>0.25</td>\n",
       "      <td>0.34</td>\n",
       "      <td>3.92</td>\n",
       "      <td>3.93</td>\n",
       "      <td>3.83</td>\n",
       "      <td>...</td>\n",
       "      <td>3.74</td>\n",
       "      <td>3.65</td>\n",
       "      <td>3.58</td>\n",
       "      <td>3.62</td>\n",
       "      <td>3.50</td>\n",
       "      <td>3.34</td>\n",
       "      <td>3.67</td>\n",
       "      <td>3.93</td>\n",
       "      <td>3.71</td>\n",
       "      <td>3.78</td>\n",
       "    </tr>\n",
       "    <tr>\n",
       "      <th>std</th>\n",
       "      <td>109741.83</td>\n",
       "      <td>0.42</td>\n",
       "      <td>0.49</td>\n",
       "      <td>0.80</td>\n",
       "      <td>0.79</td>\n",
       "      <td>0.43</td>\n",
       "      <td>0.47</td>\n",
       "      <td>1.04</td>\n",
       "      <td>0.95</td>\n",
       "      <td>1.13</td>\n",
       "      <td>...</td>\n",
       "      <td>1.12</td>\n",
       "      <td>1.09</td>\n",
       "      <td>1.12</td>\n",
       "      <td>1.15</td>\n",
       "      <td>1.12</td>\n",
       "      <td>1.22</td>\n",
       "      <td>1.08</td>\n",
       "      <td>1.00</td>\n",
       "      <td>1.11</td>\n",
       "      <td>1.06</td>\n",
       "    </tr>\n",
       "    <tr>\n",
       "      <th>min</th>\n",
       "      <td>0.00</td>\n",
       "      <td>0.00</td>\n",
       "      <td>0.00</td>\n",
       "      <td>1.00</td>\n",
       "      <td>1.00</td>\n",
       "      <td>0.00</td>\n",
       "      <td>0.00</td>\n",
       "      <td>1.00</td>\n",
       "      <td>1.00</td>\n",
       "      <td>1.00</td>\n",
       "      <td>...</td>\n",
       "      <td>1.00</td>\n",
       "      <td>1.00</td>\n",
       "      <td>1.00</td>\n",
       "      <td>1.00</td>\n",
       "      <td>1.00</td>\n",
       "      <td>1.00</td>\n",
       "      <td>1.00</td>\n",
       "      <td>1.00</td>\n",
       "      <td>1.00</td>\n",
       "      <td>1.00</td>\n",
       "    </tr>\n",
       "    <tr>\n",
       "      <th>25%</th>\n",
       "      <td>92285.25</td>\n",
       "      <td>0.00</td>\n",
       "      <td>0.00</td>\n",
       "      <td>1.00</td>\n",
       "      <td>1.00</td>\n",
       "      <td>0.00</td>\n",
       "      <td>0.00</td>\n",
       "      <td>4.00</td>\n",
       "      <td>4.00</td>\n",
       "      <td>3.00</td>\n",
       "      <td>...</td>\n",
       "      <td>3.00</td>\n",
       "      <td>3.00</td>\n",
       "      <td>3.00</td>\n",
       "      <td>3.00</td>\n",
       "      <td>3.00</td>\n",
       "      <td>2.00</td>\n",
       "      <td>3.00</td>\n",
       "      <td>4.00</td>\n",
       "      <td>3.00</td>\n",
       "      <td>3.00</td>\n",
       "    </tr>\n",
       "    <tr>\n",
       "      <th>50%</th>\n",
       "      <td>188450.00</td>\n",
       "      <td>0.00</td>\n",
       "      <td>0.00</td>\n",
       "      <td>2.00</td>\n",
       "      <td>2.00</td>\n",
       "      <td>0.00</td>\n",
       "      <td>0.00</td>\n",
       "      <td>4.00</td>\n",
       "      <td>4.00</td>\n",
       "      <td>4.00</td>\n",
       "      <td>...</td>\n",
       "      <td>4.00</td>\n",
       "      <td>4.00</td>\n",
       "      <td>4.00</td>\n",
       "      <td>4.00</td>\n",
       "      <td>4.00</td>\n",
       "      <td>4.00</td>\n",
       "      <td>4.00</td>\n",
       "      <td>4.00</td>\n",
       "      <td>4.00</td>\n",
       "      <td>4.00</td>\n",
       "    </tr>\n",
       "    <tr>\n",
       "      <th>75%</th>\n",
       "      <td>282984.50</td>\n",
       "      <td>0.00</td>\n",
       "      <td>1.00</td>\n",
       "      <td>3.00</td>\n",
       "      <td>2.00</td>\n",
       "      <td>0.00</td>\n",
       "      <td>1.00</td>\n",
       "      <td>5.00</td>\n",
       "      <td>5.00</td>\n",
       "      <td>5.00</td>\n",
       "      <td>...</td>\n",
       "      <td>5.00</td>\n",
       "      <td>4.00</td>\n",
       "      <td>4.00</td>\n",
       "      <td>4.00</td>\n",
       "      <td>4.00</td>\n",
       "      <td>4.00</td>\n",
       "      <td>4.00</td>\n",
       "      <td>5.00</td>\n",
       "      <td>4.00</td>\n",
       "      <td>4.00</td>\n",
       "    </tr>\n",
       "    <tr>\n",
       "      <th>max</th>\n",
       "      <td>380446.00</td>\n",
       "      <td>1.00</td>\n",
       "      <td>1.00</td>\n",
       "      <td>3.00</td>\n",
       "      <td>3.00</td>\n",
       "      <td>1.00</td>\n",
       "      <td>1.00</td>\n",
       "      <td>5.00</td>\n",
       "      <td>5.00</td>\n",
       "      <td>5.00</td>\n",
       "      <td>...</td>\n",
       "      <td>5.00</td>\n",
       "      <td>5.00</td>\n",
       "      <td>5.00</td>\n",
       "      <td>5.00</td>\n",
       "      <td>5.00</td>\n",
       "      <td>5.00</td>\n",
       "      <td>5.00</td>\n",
       "      <td>5.00</td>\n",
       "      <td>5.00</td>\n",
       "      <td>5.00</td>\n",
       "    </tr>\n",
       "  </tbody>\n",
       "</table>\n",
       "<p>8 rows × 78 columns</p>\n",
       "</div>"
      ],
      "text/plain": [
       "       Unnamed: 0   leaving       sex  education    tenure  supervisor  \\\n",
       "count   246068.00 246068.00 246068.00  246068.00 246068.00   246068.00   \n",
       "mean    188514.80      0.23      0.42       2.09      1.81        0.25   \n",
       "std     109741.83      0.42      0.49       0.80      0.79        0.43   \n",
       "min          0.00      0.00      0.00       1.00      1.00        0.00   \n",
       "25%      92285.25      0.00      0.00       1.00      1.00        0.00   \n",
       "50%     188450.00      0.00      0.00       2.00      2.00        0.00   \n",
       "75%     282984.50      0.00      1.00       3.00      2.00        0.00   \n",
       "max     380446.00      1.00      1.00       3.00      3.00        1.00   \n",
       "\n",
       "       minority        Q1        Q2        Q3  ...       Q62       Q63  \\\n",
       "count 246068.00 246068.00 246068.00 246068.00  ... 246068.00 246068.00   \n",
       "mean       0.34      3.92      3.93      3.83  ...      3.74      3.65   \n",
       "std        0.47      1.04      0.95      1.13  ...      1.12      1.09   \n",
       "min        0.00      1.00      1.00      1.00  ...      1.00      1.00   \n",
       "25%        0.00      4.00      4.00      3.00  ...      3.00      3.00   \n",
       "50%        0.00      4.00      4.00      4.00  ...      4.00      4.00   \n",
       "75%        1.00      5.00      5.00      5.00  ...      5.00      4.00   \n",
       "max        1.00      5.00      5.00      5.00  ...      5.00      5.00   \n",
       "\n",
       "            Q64       Q65       Q66       Q67       Q68       Q69       Q70  \\\n",
       "count 246068.00 246068.00 246068.00 246068.00 246068.00 246068.00 246068.00   \n",
       "mean       3.58      3.62      3.50      3.34      3.67      3.93      3.71   \n",
       "std        1.12      1.15      1.12      1.22      1.08      1.00      1.11   \n",
       "min        1.00      1.00      1.00      1.00      1.00      1.00      1.00   \n",
       "25%        3.00      3.00      3.00      2.00      3.00      4.00      3.00   \n",
       "50%        4.00      4.00      4.00      4.00      4.00      4.00      4.00   \n",
       "75%        4.00      4.00      4.00      4.00      4.00      5.00      4.00   \n",
       "max        5.00      5.00      5.00      5.00      5.00      5.00      5.00   \n",
       "\n",
       "            Q71  \n",
       "count 246068.00  \n",
       "mean       3.78  \n",
       "std        1.06  \n",
       "min        1.00  \n",
       "25%        3.00  \n",
       "50%        4.00  \n",
       "75%        4.00  \n",
       "max        5.00  \n",
       "\n",
       "[8 rows x 78 columns]"
      ]
     },
     "execution_count": 6,
     "metadata": {},
     "output_type": "execute_result"
    }
   ],
   "source": [
    "df.describe()"
   ]
  },
  {
   "cell_type": "code",
   "execution_count": 7,
   "metadata": {},
   "outputs": [],
   "source": [
    "df = df.drop(columns=['Unnamed: 0', 'AGENCY', 'LEVEL1'])"
   ]
  },
  {
   "cell_type": "code",
   "execution_count": 8,
   "metadata": {},
   "outputs": [
    {
     "data": {
      "text/plain": [
       "(246068, 77)"
      ]
     },
     "execution_count": 8,
     "metadata": {},
     "output_type": "execute_result"
    }
   ],
   "source": [
    "df.shape"
   ]
  },
  {
   "cell_type": "code",
   "execution_count": 9,
   "metadata": {},
   "outputs": [
    {
     "data": {
      "text/plain": [
       "Index(['leaving', 'sex', 'education', 'tenure', 'supervisor', 'minority', 'Q1',\n",
       "       'Q2', 'Q3', 'Q4', 'Q5', 'Q6', 'Q7', 'Q8', 'Q9', 'Q10', 'Q11', 'Q12',\n",
       "       'Q13', 'Q14', 'Q15', 'Q16', 'Q17', 'Q18', 'Q19', 'Q20', 'Q21', 'Q22',\n",
       "       'Q23', 'Q24', 'Q25', 'Q26', 'Q27', 'Q28', 'Q29', 'Q30', 'Q31', 'Q32',\n",
       "       'Q33', 'Q34', 'Q35', 'Q36', 'Q37', 'Q38', 'Q39', 'Q40', 'Q41', 'Q42',\n",
       "       'Q43', 'Q44', 'Q45', 'Q46', 'Q47', 'Q48', 'Q49', 'Q50', 'Q51', 'Q52',\n",
       "       'Q53', 'Q54', 'Q55', 'Q56', 'Q57', 'Q58', 'Q59', 'Q60', 'Q61', 'Q62',\n",
       "       'Q63', 'Q64', 'Q65', 'Q66', 'Q67', 'Q68', 'Q69', 'Q70', 'Q71'],\n",
       "      dtype='object')"
      ]
     },
     "execution_count": 9,
     "metadata": {},
     "output_type": "execute_result"
    }
   ],
   "source": [
    "df.columns"
   ]
  },
  {
   "cell_type": "code",
   "execution_count": 10,
   "metadata": {},
   "outputs": [],
   "source": [
    "X = df[['sex', 'education', 'tenure', 'supervisor', 'minority', 'Q1', 'Q2', 'Q3', 'Q4', 'Q5', 'Q6', 'Q7', 'Q8', 'Q9', 'Q10', 'Q11', 'Q12', 'Q13', 'Q14', 'Q15', 'Q16', 'Q17', 'Q18','Q19', 'Q20', 'Q21', 'Q22', 'Q23', 'Q24', 'Q25', 'Q26', 'Q27', 'Q28','Q29', 'Q30', 'Q31', 'Q32', 'Q33', 'Q34', 'Q35', 'Q36', 'Q37', 'Q38','Q39', 'Q40', 'Q41', 'Q42', 'Q43', 'Q44', 'Q45', 'Q46', 'Q47', 'Q48','Q49', 'Q50', 'Q51', 'Q52', 'Q53', 'Q54', 'Q55', 'Q56', 'Q57', 'Q58','Q59', 'Q60', 'Q61', 'Q62', 'Q63', 'Q64', 'Q65', 'Q66', 'Q67', 'Q68','Q69', 'Q70', 'Q71']]\n",
    "y = df.leaving"
   ]
  },
  {
   "cell_type": "code",
   "execution_count": 11,
   "metadata": {},
   "outputs": [
    {
     "data": {
      "text/html": [
       "<div>\n",
       "<style scoped>\n",
       "    .dataframe tbody tr th:only-of-type {\n",
       "        vertical-align: middle;\n",
       "    }\n",
       "\n",
       "    .dataframe tbody tr th {\n",
       "        vertical-align: top;\n",
       "    }\n",
       "\n",
       "    .dataframe thead th {\n",
       "        text-align: right;\n",
       "    }\n",
       "</style>\n",
       "<table border=\"1\" class=\"dataframe\">\n",
       "  <thead>\n",
       "    <tr style=\"text-align: right;\">\n",
       "      <th></th>\n",
       "      <th>sex</th>\n",
       "      <th>education</th>\n",
       "      <th>tenure</th>\n",
       "      <th>supervisor</th>\n",
       "      <th>minority</th>\n",
       "      <th>Q1</th>\n",
       "      <th>Q2</th>\n",
       "      <th>Q3</th>\n",
       "      <th>Q4</th>\n",
       "      <th>Q5</th>\n",
       "      <th>...</th>\n",
       "      <th>Q62</th>\n",
       "      <th>Q63</th>\n",
       "      <th>Q64</th>\n",
       "      <th>Q65</th>\n",
       "      <th>Q66</th>\n",
       "      <th>Q67</th>\n",
       "      <th>Q68</th>\n",
       "      <th>Q69</th>\n",
       "      <th>Q70</th>\n",
       "      <th>Q71</th>\n",
       "    </tr>\n",
       "  </thead>\n",
       "  <tbody>\n",
       "    <tr>\n",
       "      <th>count</th>\n",
       "      <td>246068.00</td>\n",
       "      <td>246068.00</td>\n",
       "      <td>246068.00</td>\n",
       "      <td>246068.00</td>\n",
       "      <td>246068.00</td>\n",
       "      <td>246068.00</td>\n",
       "      <td>246068.00</td>\n",
       "      <td>246068.00</td>\n",
       "      <td>246068.00</td>\n",
       "      <td>246068.00</td>\n",
       "      <td>...</td>\n",
       "      <td>246068.00</td>\n",
       "      <td>246068.00</td>\n",
       "      <td>246068.00</td>\n",
       "      <td>246068.00</td>\n",
       "      <td>246068.00</td>\n",
       "      <td>246068.00</td>\n",
       "      <td>246068.00</td>\n",
       "      <td>246068.00</td>\n",
       "      <td>246068.00</td>\n",
       "      <td>246068.00</td>\n",
       "    </tr>\n",
       "    <tr>\n",
       "      <th>mean</th>\n",
       "      <td>0.42</td>\n",
       "      <td>2.09</td>\n",
       "      <td>1.81</td>\n",
       "      <td>0.25</td>\n",
       "      <td>0.34</td>\n",
       "      <td>3.92</td>\n",
       "      <td>3.93</td>\n",
       "      <td>3.83</td>\n",
       "      <td>4.05</td>\n",
       "      <td>4.27</td>\n",
       "      <td>...</td>\n",
       "      <td>3.74</td>\n",
       "      <td>3.65</td>\n",
       "      <td>3.58</td>\n",
       "      <td>3.62</td>\n",
       "      <td>3.50</td>\n",
       "      <td>3.34</td>\n",
       "      <td>3.67</td>\n",
       "      <td>3.93</td>\n",
       "      <td>3.71</td>\n",
       "      <td>3.78</td>\n",
       "    </tr>\n",
       "    <tr>\n",
       "      <th>std</th>\n",
       "      <td>0.49</td>\n",
       "      <td>0.80</td>\n",
       "      <td>0.79</td>\n",
       "      <td>0.43</td>\n",
       "      <td>0.47</td>\n",
       "      <td>1.04</td>\n",
       "      <td>0.95</td>\n",
       "      <td>1.13</td>\n",
       "      <td>0.99</td>\n",
       "      <td>0.83</td>\n",
       "      <td>...</td>\n",
       "      <td>1.12</td>\n",
       "      <td>1.09</td>\n",
       "      <td>1.12</td>\n",
       "      <td>1.15</td>\n",
       "      <td>1.12</td>\n",
       "      <td>1.22</td>\n",
       "      <td>1.08</td>\n",
       "      <td>1.00</td>\n",
       "      <td>1.11</td>\n",
       "      <td>1.06</td>\n",
       "    </tr>\n",
       "    <tr>\n",
       "      <th>min</th>\n",
       "      <td>0.00</td>\n",
       "      <td>1.00</td>\n",
       "      <td>1.00</td>\n",
       "      <td>0.00</td>\n",
       "      <td>0.00</td>\n",
       "      <td>1.00</td>\n",
       "      <td>1.00</td>\n",
       "      <td>1.00</td>\n",
       "      <td>1.00</td>\n",
       "      <td>1.00</td>\n",
       "      <td>...</td>\n",
       "      <td>1.00</td>\n",
       "      <td>1.00</td>\n",
       "      <td>1.00</td>\n",
       "      <td>1.00</td>\n",
       "      <td>1.00</td>\n",
       "      <td>1.00</td>\n",
       "      <td>1.00</td>\n",
       "      <td>1.00</td>\n",
       "      <td>1.00</td>\n",
       "      <td>1.00</td>\n",
       "    </tr>\n",
       "    <tr>\n",
       "      <th>25%</th>\n",
       "      <td>0.00</td>\n",
       "      <td>1.00</td>\n",
       "      <td>1.00</td>\n",
       "      <td>0.00</td>\n",
       "      <td>0.00</td>\n",
       "      <td>4.00</td>\n",
       "      <td>4.00</td>\n",
       "      <td>3.00</td>\n",
       "      <td>4.00</td>\n",
       "      <td>4.00</td>\n",
       "      <td>...</td>\n",
       "      <td>3.00</td>\n",
       "      <td>3.00</td>\n",
       "      <td>3.00</td>\n",
       "      <td>3.00</td>\n",
       "      <td>3.00</td>\n",
       "      <td>2.00</td>\n",
       "      <td>3.00</td>\n",
       "      <td>4.00</td>\n",
       "      <td>3.00</td>\n",
       "      <td>3.00</td>\n",
       "    </tr>\n",
       "    <tr>\n",
       "      <th>50%</th>\n",
       "      <td>0.00</td>\n",
       "      <td>2.00</td>\n",
       "      <td>2.00</td>\n",
       "      <td>0.00</td>\n",
       "      <td>0.00</td>\n",
       "      <td>4.00</td>\n",
       "      <td>4.00</td>\n",
       "      <td>4.00</td>\n",
       "      <td>4.00</td>\n",
       "      <td>4.00</td>\n",
       "      <td>...</td>\n",
       "      <td>4.00</td>\n",
       "      <td>4.00</td>\n",
       "      <td>4.00</td>\n",
       "      <td>4.00</td>\n",
       "      <td>4.00</td>\n",
       "      <td>4.00</td>\n",
       "      <td>4.00</td>\n",
       "      <td>4.00</td>\n",
       "      <td>4.00</td>\n",
       "      <td>4.00</td>\n",
       "    </tr>\n",
       "    <tr>\n",
       "      <th>75%</th>\n",
       "      <td>1.00</td>\n",
       "      <td>3.00</td>\n",
       "      <td>2.00</td>\n",
       "      <td>0.00</td>\n",
       "      <td>1.00</td>\n",
       "      <td>5.00</td>\n",
       "      <td>5.00</td>\n",
       "      <td>5.00</td>\n",
       "      <td>5.00</td>\n",
       "      <td>5.00</td>\n",
       "      <td>...</td>\n",
       "      <td>5.00</td>\n",
       "      <td>4.00</td>\n",
       "      <td>4.00</td>\n",
       "      <td>4.00</td>\n",
       "      <td>4.00</td>\n",
       "      <td>4.00</td>\n",
       "      <td>4.00</td>\n",
       "      <td>5.00</td>\n",
       "      <td>4.00</td>\n",
       "      <td>4.00</td>\n",
       "    </tr>\n",
       "    <tr>\n",
       "      <th>max</th>\n",
       "      <td>1.00</td>\n",
       "      <td>3.00</td>\n",
       "      <td>3.00</td>\n",
       "      <td>1.00</td>\n",
       "      <td>1.00</td>\n",
       "      <td>5.00</td>\n",
       "      <td>5.00</td>\n",
       "      <td>5.00</td>\n",
       "      <td>5.00</td>\n",
       "      <td>5.00</td>\n",
       "      <td>...</td>\n",
       "      <td>5.00</td>\n",
       "      <td>5.00</td>\n",
       "      <td>5.00</td>\n",
       "      <td>5.00</td>\n",
       "      <td>5.00</td>\n",
       "      <td>5.00</td>\n",
       "      <td>5.00</td>\n",
       "      <td>5.00</td>\n",
       "      <td>5.00</td>\n",
       "      <td>5.00</td>\n",
       "    </tr>\n",
       "  </tbody>\n",
       "</table>\n",
       "<p>8 rows × 76 columns</p>\n",
       "</div>"
      ],
      "text/plain": [
       "            sex  education    tenure  supervisor  minority        Q1  \\\n",
       "count 246068.00  246068.00 246068.00   246068.00 246068.00 246068.00   \n",
       "mean       0.42       2.09      1.81        0.25      0.34      3.92   \n",
       "std        0.49       0.80      0.79        0.43      0.47      1.04   \n",
       "min        0.00       1.00      1.00        0.00      0.00      1.00   \n",
       "25%        0.00       1.00      1.00        0.00      0.00      4.00   \n",
       "50%        0.00       2.00      2.00        0.00      0.00      4.00   \n",
       "75%        1.00       3.00      2.00        0.00      1.00      5.00   \n",
       "max        1.00       3.00      3.00        1.00      1.00      5.00   \n",
       "\n",
       "             Q2        Q3        Q4        Q5  ...       Q62       Q63  \\\n",
       "count 246068.00 246068.00 246068.00 246068.00  ... 246068.00 246068.00   \n",
       "mean       3.93      3.83      4.05      4.27  ...      3.74      3.65   \n",
       "std        0.95      1.13      0.99      0.83  ...      1.12      1.09   \n",
       "min        1.00      1.00      1.00      1.00  ...      1.00      1.00   \n",
       "25%        4.00      3.00      4.00      4.00  ...      3.00      3.00   \n",
       "50%        4.00      4.00      4.00      4.00  ...      4.00      4.00   \n",
       "75%        5.00      5.00      5.00      5.00  ...      5.00      4.00   \n",
       "max        5.00      5.00      5.00      5.00  ...      5.00      5.00   \n",
       "\n",
       "            Q64       Q65       Q66       Q67       Q68       Q69       Q70  \\\n",
       "count 246068.00 246068.00 246068.00 246068.00 246068.00 246068.00 246068.00   \n",
       "mean       3.58      3.62      3.50      3.34      3.67      3.93      3.71   \n",
       "std        1.12      1.15      1.12      1.22      1.08      1.00      1.11   \n",
       "min        1.00      1.00      1.00      1.00      1.00      1.00      1.00   \n",
       "25%        3.00      3.00      3.00      2.00      3.00      4.00      3.00   \n",
       "50%        4.00      4.00      4.00      4.00      4.00      4.00      4.00   \n",
       "75%        4.00      4.00      4.00      4.00      4.00      5.00      4.00   \n",
       "max        5.00      5.00      5.00      5.00      5.00      5.00      5.00   \n",
       "\n",
       "            Q71  \n",
       "count 246068.00  \n",
       "mean       3.78  \n",
       "std        1.06  \n",
       "min        1.00  \n",
       "25%        3.00  \n",
       "50%        4.00  \n",
       "75%        4.00  \n",
       "max        5.00  \n",
       "\n",
       "[8 rows x 76 columns]"
      ]
     },
     "execution_count": 11,
     "metadata": {},
     "output_type": "execute_result"
    }
   ],
   "source": [
    "X.describe()"
   ]
  },
  {
   "cell_type": "markdown",
   "metadata": {},
   "source": [
    "import statsmodels.api as sm\n",
    "X1 = sm.add_constant(X) \n",
    "model5 = sm.OLS(y, X1).fit()\n",
    "predictions = model5.predict(X)\n",
    "model5.summary()"
   ]
  },
  {
   "cell_type": "code",
   "execution_count": 12,
   "metadata": {},
   "outputs": [
    {
     "name": "stderr",
     "output_type": "stream",
     "text": [
      "C:\\Users\\Jungd\\Anaconda3\\lib\\site-packages\\sklearn\\linear_model\\_logistic.py:940: ConvergenceWarning: lbfgs failed to converge (status=1):\n",
      "STOP: TOTAL NO. of ITERATIONS REACHED LIMIT.\n",
      "\n",
      "Increase the number of iterations (max_iter) or scale the data as shown in:\n",
      "    https://scikit-learn.org/stable/modules/preprocessing.html\n",
      "Please also refer to the documentation for alternative solver options:\n",
      "    https://scikit-learn.org/stable/modules/linear_model.html#logistic-regression\n",
      "  extra_warning_msg=_LOGISTIC_SOLVER_CONVERGENCE_MSG)\n"
     ]
    },
    {
     "name": "stdout",
     "output_type": "stream",
     "text": [
      "[[-0.16659979  0.14493326 -0.42644243  0.17513232  0.26319528 -0.01107079\n",
      "   0.06066317  0.04047473 -0.0564889  -0.10499199 -0.06503524  0.00304128\n",
      "   0.2093342  -0.01529887 -0.02030235 -0.14685228  0.10537903 -0.02570585\n",
      "  -0.00255366  0.04703074  0.05665681  0.02115714 -0.06046414  0.01848354\n",
      "  -0.00700279 -0.02189701 -0.00945455 -0.02150648  0.01440381 -0.00497005\n",
      "  -0.02262028  0.03480983 -0.02475923  0.01720989  0.05000735  0.04057474\n",
      "   0.01411476  0.00647676  0.00293908  0.08844218  0.03333067 -0.06987203\n",
      "  -0.02034513  0.15453594 -0.38980506 -0.03731756 -0.00968728  0.0207409\n",
      "  -0.06863458  0.07937691  0.00535669  0.00656741  0.07582376 -0.00879362\n",
      "   0.00580071 -0.08372316 -0.07866833 -0.0209134   0.00533954  0.0360394\n",
      "  -0.03967093  0.0194673  -0.01845095  0.06534875 -0.04088875  0.04495739\n",
      "  -0.04197877  0.04198337  0.02976687  0.02441476  0.09373894 -0.40959271\n",
      "   0.05188855 -0.43976606 -0.11235743 -0.21680383]]\n",
      "[2.79769376]\n",
      "0.8210860412568883\n"
     ]
    }
   ],
   "source": [
    "from sklearn.linear_model import LogisticRegression\n",
    "from sklearn.model_selection import train_test_split\n",
    "from sklearn.metrics import classification_report\n",
    "\n",
    "model = LogisticRegression(random_state=42)\n",
    "model2 = model.fit(X, y)\n",
    "prediction = model2.predict(X)\n",
    "\n",
    "print(model2.coef_)\n",
    "print(model2.intercept_)\n",
    "print(model2.score(X, y))"
   ]
  },
  {
   "cell_type": "code",
   "execution_count": 13,
   "metadata": {},
   "outputs": [
    {
     "data": {
      "text/plain": [
       "array([[-0.84252624, -1.36409002,  0.23576956, ...,  0.06566454,\n",
       "         0.2600151 ,  0.21139981],\n",
       "       [-0.84252624, -0.11290129, -1.03632938, ...,  0.06566454,\n",
       "         0.2600151 ,  0.21139981],\n",
       "       [ 1.18690665, -0.11290129,  1.50786851, ..., -0.93451761,\n",
       "        -0.63759146,  0.21139981],\n",
       "       ...,\n",
       "       [ 1.18690665, -0.11290129,  0.23576956, ...,  0.06566454,\n",
       "         0.2600151 ,  0.21139981],\n",
       "       [ 1.18690665, -0.11290129, -1.03632938, ...,  0.06566454,\n",
       "        -1.53519803,  0.21139981],\n",
       "       [-0.84252624,  1.13828744,  0.23576956, ..., -0.93451761,\n",
       "         0.2600151 ,  0.21139981]])"
      ]
     },
     "execution_count": 13,
     "metadata": {},
     "output_type": "execute_result"
    }
   ],
   "source": [
    "from sklearn.preprocessing import StandardScaler\n",
    "scaler = StandardScaler()\n",
    "scaler.fit(X)\n",
    "XA = scaler.transform(X)\n",
    "XA"
   ]
  },
  {
   "cell_type": "code",
   "execution_count": 14,
   "metadata": {},
   "outputs": [
    {
     "name": "stdout",
     "output_type": "stream",
     "text": [
      "[[-0.09031669  0.11827742 -0.34615964  0.05555021  0.12901898 -0.02543169\n",
      "   0.05922504  0.04721941 -0.05633212 -0.08678019 -0.06134075  0.00200357\n",
      "   0.14360068 -0.02068063 -0.01895813 -0.17221903  0.08804895 -0.02691806\n",
      "  -0.00104253  0.04286037  0.04819742  0.02614209 -0.06234624  0.0191038\n",
      "  -0.01806841 -0.02686286 -0.00735388 -0.02026427  0.01606834 -0.00182612\n",
      "  -0.01663079  0.04271931 -0.01775559  0.01066132  0.05442712  0.03966968\n",
      "   0.02078053  0.00303042 -0.00091906  0.08473189  0.03176494 -0.07938431\n",
      "  -0.02754977  0.13689901 -0.40173085 -0.03816766 -0.02111527  0.03048822\n",
      "  -0.07079983  0.08751386  0.01019388  0.00910396  0.07441595  0.00101549\n",
      "   0.00767993 -0.08824307 -0.10111381 -0.02567369 -0.00151011  0.03383289\n",
      "  -0.03653065  0.01684699 -0.02797944  0.07133358 -0.0488729   0.06170268\n",
      "  -0.05345652  0.04959743  0.04211477  0.02673102  0.11174673 -0.50103518\n",
      "   0.05338312 -0.43835653 -0.12392964 -0.23265359]]\n",
      "[-1.54998068]\n",
      "0.8216343076594836\n",
      "0.8199496078351689\n"
     ]
    }
   ],
   "source": [
    "X_train, X_test, y_train, y_test = train_test_split(XA, y, train_size=0.8, test_size=0.2, random_state=42)\n",
    "\n",
    "mlr = LogisticRegression(random_state=42)\n",
    "mlr.fit(X_train, y_train) \n",
    "y_predict = mlr.predict(X_test)\n",
    "print(mlr.coef_)\n",
    "print(mlr.intercept_)\n",
    "print(mlr.score(X_train, y_train))\n",
    "print(mlr.score(X_test, y_test))"
   ]
  },
  {
   "cell_type": "code",
   "execution_count": 15,
   "metadata": {},
   "outputs": [
    {
     "name": "stdout",
     "output_type": "stream",
     "text": [
      "[[-0.09027329  0.11827996 -0.34613925  0.0555368   0.129013   -0.02537519\n",
      "   0.05917918  0.0471721  -0.05630211 -0.08678244 -0.06129082  0.00197121\n",
      "   0.14357697 -0.02063495 -0.01897107 -0.17219606  0.08798596 -0.02684703\n",
      "  -0.00098566  0.04282866  0.04818507  0.02610529 -0.06229248  0.01910359\n",
      "  -0.01804658 -0.02684814 -0.0073057  -0.02017529  0.01592887 -0.00173328\n",
      "  -0.01661172  0.04265079 -0.01769118  0.01061085  0.05442856  0.03962802\n",
      "   0.02078225  0.00295674 -0.00087444  0.08469666  0.03175759 -0.07935936\n",
      "  -0.02751317  0.1368376  -0.40167247 -0.0381684  -0.0210795   0.03041796\n",
      "  -0.07057055  0.08746183  0.01007275  0.00904138  0.07425727  0.00103643\n",
      "   0.00763609 -0.08806252 -0.10111021 -0.02556188 -0.00144589  0.03375406\n",
      "  -0.03631773  0.01665385 -0.02796491  0.07132005 -0.04884334  0.06156282\n",
      "  -0.05338036  0.04954919  0.04206363  0.02670652  0.11168462 -0.50100814\n",
      "   0.05332359 -0.43830434 -0.12390129 -0.23262022]]\n",
      "[-1.54994623]\n",
      "0.8216190679386753\n",
      "0.8199496078351689\n"
     ]
    }
   ],
   "source": [
    "mlr = LogisticRegression(penalty='elasticnet', l1_ratio=.5, multi_class=\"auto\", solver=\"saga\", random_state=42)\n",
    "mlr.fit(X_train, y_train) \n",
    "y_predict = mlr.predict(X_test)\n",
    "print(mlr.coef_)\n",
    "print(mlr.intercept_)\n",
    "print(mlr.score(X_train, y_train))\n",
    "print(mlr.score(X_test, y_test))"
   ]
  },
  {
   "cell_type": "code",
   "execution_count": 16,
   "metadata": {},
   "outputs": [
    {
     "name": "stdout",
     "output_type": "stream",
     "text": [
      "Optimization terminated successfully.\n",
      "         Current function value: 0.410850\n",
      "         Iterations 6\n",
      "                           Logit Regression Results                           \n",
      "==============================================================================\n",
      "Dep. Variable:                leaving   No. Observations:               246068\n",
      "Model:                          Logit   Df Residuals:                   245991\n",
      "Method:                           MLE   Df Model:                           76\n",
      "Date:                Thu, 16 Apr 2020   Pseudo R-squ.:                  0.2435\n",
      "Time:                        10:16:08   Log-Likelihood:            -1.0110e+05\n",
      "converged:                       True   LL-Null:                   -1.3364e+05\n",
      "Covariance Type:            nonrobust   LLR p-value:                     0.000\n",
      "==============================================================================\n",
      "                 coef    std err          z      P>|z|      [0.025      0.975]\n",
      "------------------------------------------------------------------------------\n",
      "const         -1.5480      0.006   -246.776      0.000      -1.560      -1.536\n",
      "x1            -0.0862      0.006    -14.659      0.000      -0.098      -0.075\n",
      "x2             0.1187      0.006     19.961      0.000       0.107       0.130\n",
      "x3            -0.3390      0.006    -53.867      0.000      -0.351      -0.327\n",
      "x4             0.0572      0.006      8.846      0.000       0.045       0.070\n",
      "x5             0.1310      0.006     22.315      0.000       0.120       0.143\n",
      "x6            -0.0150      0.009     -1.671      0.095      -0.033       0.003\n",
      "x7             0.0573      0.008      6.890      0.000       0.041       0.074\n",
      "x8             0.0483      0.009      5.201      0.000       0.030       0.067\n",
      "x9            -0.0586      0.009     -6.581      0.000      -0.076      -0.041\n",
      "x10           -0.0867      0.008    -10.862      0.000      -0.102      -0.071\n",
      "x11           -0.0556      0.008     -7.108      0.000      -0.071      -0.040\n",
      "x12            0.0055      0.007      0.741      0.458      -0.009       0.020\n",
      "x13            0.1368      0.008     17.875      0.000       0.122       0.152\n",
      "x14           -0.0236      0.008     -2.931      0.003      -0.039      -0.008\n",
      "x15           -0.0200      0.007     -2.739      0.006      -0.034      -0.006\n",
      "x16           -0.1656      0.009    -19.328      0.000      -0.182      -0.149\n",
      "x17            0.0852      0.008     10.964      0.000       0.070       0.100\n",
      "x18           -0.0215      0.007     -2.912      0.004      -0.036      -0.007\n",
      "x19           -0.0016      0.007     -0.246      0.805      -0.015       0.011\n",
      "x20            0.0473      0.008      5.705      0.000       0.031       0.064\n",
      "x21            0.0490      0.007      6.711      0.000       0.035       0.063\n",
      "x22            0.0240      0.008      2.997      0.003       0.008       0.040\n",
      "x23           -0.0666      0.009     -7.691      0.000      -0.084      -0.050\n",
      "x24            0.0152      0.008      1.970      0.049    7.61e-05       0.030\n",
      "x25           -0.0111      0.007     -1.498      0.134      -0.026       0.003\n",
      "x26           -0.0263      0.008     -3.365      0.001      -0.042      -0.011\n",
      "x27           -0.0138      0.009     -1.470      0.142      -0.032       0.005\n",
      "x28           -0.0219      0.009     -2.490      0.013      -0.039      -0.005\n",
      "x29            0.0207      0.011      1.928      0.054      -0.000       0.042\n",
      "x30           -0.0050      0.010     -0.503      0.615      -0.025       0.015\n",
      "x31           -0.0186      0.008     -2.468      0.014      -0.033      -0.004\n",
      "x32            0.0442      0.008      5.556      0.000       0.029       0.060\n",
      "x33           -0.0258      0.008     -3.118      0.002      -0.042      -0.010\n",
      "x34            0.0120      0.008      1.469      0.142      -0.004       0.028\n",
      "x35            0.0517      0.009      5.526      0.000       0.033       0.070\n",
      "x36            0.0470      0.011      4.280      0.000       0.025       0.068\n",
      "x37            0.0157      0.011      1.417      0.156      -0.006       0.037\n",
      "x38            0.0073      0.008      0.861      0.389      -0.009       0.024\n",
      "x39            0.0027      0.007      0.356      0.722      -0.012       0.017\n",
      "x40            0.0850      0.008     10.824      0.000       0.070       0.100\n",
      "x41            0.0243      0.007      3.263      0.001       0.010       0.039\n",
      "x42           -0.0814      0.009     -9.163      0.000      -0.099      -0.064\n",
      "x43           -0.0262      0.009     -2.944      0.003      -0.044      -0.009\n",
      "x44            0.1374      0.008     16.622      0.000       0.121       0.154\n",
      "x45           -0.4028      0.010    -41.419      0.000      -0.422      -0.384\n",
      "x46           -0.0435      0.008     -5.541      0.000      -0.059      -0.028\n",
      "x47           -0.0139      0.009     -1.581      0.114      -0.031       0.003\n",
      "x48            0.0277      0.010      2.678      0.007       0.007       0.048\n",
      "x49           -0.0767      0.013     -5.904      0.000      -0.102      -0.051\n",
      "x50            0.0830      0.010      8.027      0.000       0.063       0.103\n",
      "x51            0.0102      0.012      0.835      0.404      -0.014       0.034\n",
      "x52            0.0066      0.010      0.646      0.518      -0.013       0.027\n",
      "x53            0.0641      0.012      5.344      0.000       0.041       0.088\n",
      "x54           -0.0003      0.011     -0.022      0.982      -0.023       0.022\n",
      "x55            0.0061      0.008      0.778      0.436      -0.009       0.021\n",
      "x56           -0.0778      0.013     -5.860      0.000      -0.104      -0.052\n",
      "x57           -0.0916      0.011     -8.083      0.000      -0.114      -0.069\n",
      "x58           -0.0230      0.012     -1.984      0.047      -0.046      -0.000\n",
      "x59           -0.0002      0.011     -0.020      0.984      -0.022       0.022\n",
      "x60            0.0364      0.009      4.176      0.000       0.019       0.053\n",
      "x61           -0.0363      0.012     -3.140      0.002      -0.059      -0.014\n",
      "x62            0.0149      0.012      1.261      0.207      -0.008       0.038\n",
      "x63           -0.0160      0.013     -1.241      0.215      -0.041       0.009\n",
      "x64            0.0597      0.012      4.916      0.000       0.036       0.084\n",
      "x65           -0.0497      0.008     -5.850      0.000      -0.066      -0.033\n",
      "x66            0.0543      0.011      4.789      0.000       0.032       0.077\n",
      "x67           -0.0506      0.009     -5.678      0.000      -0.068      -0.033\n",
      "x68            0.0520      0.010      5.471      0.000       0.033       0.071\n",
      "x69            0.0380      0.010      3.862      0.000       0.019       0.057\n",
      "x70            0.0250      0.010      2.534      0.011       0.006       0.044\n",
      "x71            0.1139      0.012      9.808      0.000       0.091       0.137\n",
      "x72           -0.5024      0.009    -57.038      0.000      -0.520      -0.485\n",
      "x73            0.0547      0.009      6.242      0.000       0.037       0.072\n",
      "x74           -0.4462      0.010    -43.102      0.000      -0.467      -0.426\n",
      "x75           -0.1234      0.007    -18.683      0.000      -0.136      -0.110\n",
      "x76           -0.2253      0.011    -19.796      0.000      -0.248      -0.203\n",
      "==============================================================================\n"
     ]
    }
   ],
   "source": [
    "import statsmodels.api as sm\n",
    "X1 = sm.add_constant(XA) \n",
    "model5 = sm.Logit(y, X1).fit()\n",
    "print(model5.summary())"
   ]
  },
  {
   "cell_type": "code",
   "execution_count": 17,
   "metadata": {},
   "outputs": [
    {
     "name": "stderr",
     "output_type": "stream",
     "text": [
      "C:\\Users\\Jungd\\Anaconda3\\lib\\site-packages\\sklearn\\base.py:197: FutureWarning: From version 0.24, get_params will raise an AttributeError if a parameter cannot be retrieved as an instance attribute. Previously it would return None.\n",
      "  FutureWarning)\n"
     ]
    },
    {
     "data": {
      "image/png": "[encoded data removed]",
      "text/plain": [
       "<Figure size 432x288 with 1 Axes>"
      ]
     },
     "metadata": {},
     "output_type": "display_data"
    },
    {
     "data": {
      "text/plain": [
       "<matplotlib.axes._subplots.AxesSubplot at 0x2093c160eb8>"
      ]
     },
     "execution_count": 17,
     "metadata": {},
     "output_type": "execute_result"
    }
   ],
   "source": [
    "from yellowbrick.classifier import ConfusionMatrix\n",
    "\n",
    "model = LogisticRegression(multi_class=\"auto\", solver=\"liblinear\")\n",
    "cm = ConfusionMatrix(model, classes=[0,1])\n",
    "cm.fit(X_train, y_train)\n",
    "cm.score(X_test, y_test)\n",
    "cm.show()"
   ]
  },
  {
   "cell_type": "code",
   "execution_count": 18,
   "metadata": {},
   "outputs": [
    {
     "name": "stderr",
     "output_type": "stream",
     "text": [
      "C:\\Users\\Jungd\\Anaconda3\\lib\\site-packages\\sklearn\\base.py:197: FutureWarning: From version 0.24, get_params will raise an AttributeError if a parameter cannot be retrieved as an instance attribute. Previously it would return None.\n",
      "  FutureWarning)\n"
     ]
    },
    {
     "data": {
      "image/png": "[encoded data removed]",
      "text/plain": [
       "<Figure size 432x288 with 1 Axes>"
      ]
     },
     "metadata": {},
     "output_type": "display_data"
    },
    {
     "data": {
      "text/plain": [
       "<matplotlib.axes._subplots.AxesSubplot at 0x20907d44400>"
      ]
     },
     "execution_count": 18,
     "metadata": {},
     "output_type": "execute_result"
    }
   ],
   "source": [
    "from yellowbrick.classifier import ROCAUC\n",
    "\n",
    "visualizer = ROCAUC(model, classes=[\"Stay\", \"Leave\"])\n",
    "visualizer.fit(X_train, y_train)        # Fit the training data to the visualizer\n",
    "visualizer.score(X_test, y_test)        # Evaluate the model on the test data\n",
    "visualizer.show()   "
   ]
  },
  {
   "cell_type": "code",
   "execution_count": 19,
   "metadata": {},
   "outputs": [
    {
     "name": "stderr",
     "output_type": "stream",
     "text": [
      "C:\\Users\\Jungd\\Anaconda3\\lib\\site-packages\\sklearn\\base.py:197: FutureWarning: From version 0.24, get_params will raise an AttributeError if a parameter cannot be retrieved as an instance attribute. Previously it would return None.\n",
      "  FutureWarning)\n"
     ]
    },
    {
     "data": {
      "image/png": "[encoded data removed]",
      "text/plain": [
       "<Figure size 432x288 with 1 Axes>"
      ]
     },
     "metadata": {},
     "output_type": "display_data"
    },
    {
     "data": {
      "text/plain": [
       "<matplotlib.axes._subplots.AxesSubplot at 0x2093c4432e8>"
      ]
     },
     "execution_count": 19,
     "metadata": {},
     "output_type": "execute_result"
    }
   ],
   "source": [
    "from sklearn.linear_model import RidgeClassifier\n",
    "from yellowbrick.classifier import PrecisionRecallCurve\n",
    "\n",
    "viz = PrecisionRecallCurve(RidgeClassifier())\n",
    "viz.fit(X_train, y_train)\n",
    "viz.score(X_test, y_test)\n",
    "viz.show()"
   ]
  },
  {
   "cell_type": "code",
   "execution_count": 20,
   "metadata": {},
   "outputs": [
    {
     "name": "stderr",
     "output_type": "stream",
     "text": [
      "C:\\Users\\Jungd\\Anaconda3\\lib\\site-packages\\sklearn\\base.py:197: FutureWarning: From version 0.24, get_params will raise an AttributeError if a parameter cannot be retrieved as an instance attribute. Previously it would return None.\n",
      "  FutureWarning)\n"
     ]
    },
    {
     "data": {
      "image/png": "[encoded data removed]",
      "text/plain": [
       "<Figure size 432x288 with 1 Axes>"
      ]
     },
     "metadata": {},
     "output_type": "display_data"
    },
    {
     "data": {
      "text/plain": [
       "<matplotlib.axes._subplots.AxesSubplot at 0x2093c7d3c50>"
      ]
     },
     "execution_count": 20,
     "metadata": {},
     "output_type": "execute_result"
    }
   ],
   "source": [
    "from yellowbrick.classifier import ClassPredictionError\n",
    "\n",
    "visualizer = ClassPredictionError(LogisticRegression(random_state=42), classes=[\"Stay\", \"Leave\"])\n",
    "visualizer.fit(X_train, y_train)\n",
    "visualizer.score(X_test, y_test)\n",
    "visualizer.show()"
   ]
  },
  {
   "cell_type": "code",
   "execution_count": 21,
   "metadata": {},
   "outputs": [
    {
     "name": "stderr",
     "output_type": "stream",
     "text": [
      "C:\\Users\\Jungd\\Anaconda3\\lib\\site-packages\\sklearn\\base.py:197: FutureWarning: From version 0.24, get_params will raise an AttributeError if a parameter cannot be retrieved as an instance attribute. Previously it would return None.\n",
      "  FutureWarning)\n",
      "C:\\Users\\Jungd\\Anaconda3\\lib\\site-packages\\sklearn\\utils\\deprecation.py:87: FutureWarning: Function safe_indexing is deprecated; safe_indexing is deprecated in version 0.22 and will be removed in version 0.24.\n",
      "  warnings.warn(msg, category=FutureWarning)\n",
      "C:\\Users\\Jungd\\Anaconda3\\lib\\site-packages\\sklearn\\utils\\deprecation.py:87: FutureWarning: Function safe_indexing is deprecated; safe_indexing is deprecated in version 0.22 and will be removed in version 0.24.\n",
      "  warnings.warn(msg, category=FutureWarning)\n",
      "C:\\Users\\Jungd\\Anaconda3\\lib\\site-packages\\sklearn\\utils\\deprecation.py:87: FutureWarning: Function safe_indexing is deprecated; safe_indexing is deprecated in version 0.22 and will be removed in version 0.24.\n",
      "  warnings.warn(msg, category=FutureWarning)\n",
      "C:\\Users\\Jungd\\Anaconda3\\lib\\site-packages\\sklearn\\utils\\deprecation.py:87: FutureWarning: Function safe_indexing is deprecated; safe_indexing is deprecated in version 0.22 and will be removed in version 0.24.\n",
      "  warnings.warn(msg, category=FutureWarning)\n",
      "C:\\Users\\Jungd\\Anaconda3\\lib\\site-packages\\sklearn\\utils\\deprecation.py:87: FutureWarning: Function safe_indexing is deprecated; safe_indexing is deprecated in version 0.22 and will be removed in version 0.24.\n",
      "  warnings.warn(msg, category=FutureWarning)\n",
      "C:\\Users\\Jungd\\Anaconda3\\lib\\site-packages\\sklearn\\utils\\deprecation.py:87: FutureWarning: Function safe_indexing is deprecated; safe_indexing is deprecated in version 0.22 and will be removed in version 0.24.\n",
      "  warnings.warn(msg, category=FutureWarning)\n",
      "C:\\Users\\Jungd\\Anaconda3\\lib\\site-packages\\sklearn\\utils\\deprecation.py:87: FutureWarning: Function safe_indexing is deprecated; safe_indexing is deprecated in version 0.22 and will be removed in version 0.24.\n",
      "  warnings.warn(msg, category=FutureWarning)\n",
      "C:\\Users\\Jungd\\Anaconda3\\lib\\site-packages\\sklearn\\utils\\deprecation.py:87: FutureWarning: Function safe_indexing is deprecated; safe_indexing is deprecated in version 0.22 and will be removed in version 0.24.\n",
      "  warnings.warn(msg, category=FutureWarning)\n",
      "C:\\Users\\Jungd\\Anaconda3\\lib\\site-packages\\sklearn\\utils\\deprecation.py:87: FutureWarning: Function safe_indexing is deprecated; safe_indexing is deprecated in version 0.22 and will be removed in version 0.24.\n",
      "  warnings.warn(msg, category=FutureWarning)\n",
      "C:\\Users\\Jungd\\Anaconda3\\lib\\site-packages\\sklearn\\utils\\deprecation.py:87: FutureWarning: Function safe_indexing is deprecated; safe_indexing is deprecated in version 0.22 and will be removed in version 0.24.\n",
      "  warnings.warn(msg, category=FutureWarning)\n",
      "C:\\Users\\Jungd\\Anaconda3\\lib\\site-packages\\sklearn\\utils\\deprecation.py:87: FutureWarning: Function safe_indexing is deprecated; safe_indexing is deprecated in version 0.22 and will be removed in version 0.24.\n",
      "  warnings.warn(msg, category=FutureWarning)\n",
      "C:\\Users\\Jungd\\Anaconda3\\lib\\site-packages\\sklearn\\utils\\deprecation.py:87: FutureWarning: Function safe_indexing is deprecated; safe_indexing is deprecated in version 0.22 and will be removed in version 0.24.\n",
      "  warnings.warn(msg, category=FutureWarning)\n",
      "C:\\Users\\Jungd\\Anaconda3\\lib\\site-packages\\sklearn\\utils\\deprecation.py:87: FutureWarning: Function safe_indexing is deprecated; safe_indexing is deprecated in version 0.22 and will be removed in version 0.24.\n",
      "  warnings.warn(msg, category=FutureWarning)\n",
      "C:\\Users\\Jungd\\Anaconda3\\lib\\site-packages\\sklearn\\utils\\deprecation.py:87: FutureWarning: Function safe_indexing is deprecated; safe_indexing is deprecated in version 0.22 and will be removed in version 0.24.\n",
      "  warnings.warn(msg, category=FutureWarning)\n",
      "C:\\Users\\Jungd\\Anaconda3\\lib\\site-packages\\sklearn\\utils\\deprecation.py:87: FutureWarning: Function safe_indexing is deprecated; safe_indexing is deprecated in version 0.22 and will be removed in version 0.24.\n",
      "  warnings.warn(msg, category=FutureWarning)\n",
      "C:\\Users\\Jungd\\Anaconda3\\lib\\site-packages\\sklearn\\utils\\deprecation.py:87: FutureWarning: Function safe_indexing is deprecated; safe_indexing is deprecated in version 0.22 and will be removed in version 0.24.\n",
      "  warnings.warn(msg, category=FutureWarning)\n",
      "C:\\Users\\Jungd\\Anaconda3\\lib\\site-packages\\sklearn\\utils\\deprecation.py:87: FutureWarning: Function safe_indexing is deprecated; safe_indexing is deprecated in version 0.22 and will be removed in version 0.24.\n",
      "  warnings.warn(msg, category=FutureWarning)\n",
      "C:\\Users\\Jungd\\Anaconda3\\lib\\site-packages\\sklearn\\utils\\deprecation.py:87: FutureWarning: Function safe_indexing is deprecated; safe_indexing is deprecated in version 0.22 and will be removed in version 0.24.\n",
      "  warnings.warn(msg, category=FutureWarning)\n",
      "C:\\Users\\Jungd\\Anaconda3\\lib\\site-packages\\sklearn\\utils\\deprecation.py:87: FutureWarning: Function safe_indexing is deprecated; safe_indexing is deprecated in version 0.22 and will be removed in version 0.24.\n",
      "  warnings.warn(msg, category=FutureWarning)\n",
      "C:\\Users\\Jungd\\Anaconda3\\lib\\site-packages\\sklearn\\utils\\deprecation.py:87: FutureWarning: Function safe_indexing is deprecated; safe_indexing is deprecated in version 0.22 and will be removed in version 0.24.\n",
      "  warnings.warn(msg, category=FutureWarning)\n",
      "C:\\Users\\Jungd\\Anaconda3\\lib\\site-packages\\sklearn\\utils\\deprecation.py:87: FutureWarning: Function safe_indexing is deprecated; safe_indexing is deprecated in version 0.22 and will be removed in version 0.24.\n",
      "  warnings.warn(msg, category=FutureWarning)\n",
      "C:\\Users\\Jungd\\Anaconda3\\lib\\site-packages\\sklearn\\utils\\deprecation.py:87: FutureWarning: Function safe_indexing is deprecated; safe_indexing is deprecated in version 0.22 and will be removed in version 0.24.\n",
      "  warnings.warn(msg, category=FutureWarning)\n",
      "C:\\Users\\Jungd\\Anaconda3\\lib\\site-packages\\sklearn\\utils\\deprecation.py:87: FutureWarning: Function safe_indexing is deprecated; safe_indexing is deprecated in version 0.22 and will be removed in version 0.24.\n",
      "  warnings.warn(msg, category=FutureWarning)\n",
      "C:\\Users\\Jungd\\Anaconda3\\lib\\site-packages\\sklearn\\utils\\deprecation.py:87: FutureWarning: Function safe_indexing is deprecated; safe_indexing is deprecated in version 0.22 and will be removed in version 0.24.\n",
      "  warnings.warn(msg, category=FutureWarning)\n",
      "C:\\Users\\Jungd\\Anaconda3\\lib\\site-packages\\sklearn\\utils\\deprecation.py:87: FutureWarning: Function safe_indexing is deprecated; safe_indexing is deprecated in version 0.22 and will be removed in version 0.24.\n",
      "  warnings.warn(msg, category=FutureWarning)\n",
      "C:\\Users\\Jungd\\Anaconda3\\lib\\site-packages\\sklearn\\utils\\deprecation.py:87: FutureWarning: Function safe_indexing is deprecated; safe_indexing is deprecated in version 0.22 and will be removed in version 0.24.\n",
      "  warnings.warn(msg, category=FutureWarning)\n",
      "C:\\Users\\Jungd\\Anaconda3\\lib\\site-packages\\sklearn\\utils\\deprecation.py:87: FutureWarning: Function safe_indexing is deprecated; safe_indexing is deprecated in version 0.22 and will be removed in version 0.24.\n",
      "  warnings.warn(msg, category=FutureWarning)\n",
      "C:\\Users\\Jungd\\Anaconda3\\lib\\site-packages\\sklearn\\utils\\deprecation.py:87: FutureWarning: Function safe_indexing is deprecated; safe_indexing is deprecated in version 0.22 and will be removed in version 0.24.\n",
      "  warnings.warn(msg, category=FutureWarning)\n",
      "C:\\Users\\Jungd\\Anaconda3\\lib\\site-packages\\sklearn\\utils\\deprecation.py:87: FutureWarning: Function safe_indexing is deprecated; safe_indexing is deprecated in version 0.22 and will be removed in version 0.24.\n",
      "  warnings.warn(msg, category=FutureWarning)\n",
      "C:\\Users\\Jungd\\Anaconda3\\lib\\site-packages\\sklearn\\utils\\deprecation.py:87: FutureWarning: Function safe_indexing is deprecated; safe_indexing is deprecated in version 0.22 and will be removed in version 0.24.\n",
      "  warnings.warn(msg, category=FutureWarning)\n",
      "C:\\Users\\Jungd\\Anaconda3\\lib\\site-packages\\sklearn\\utils\\deprecation.py:87: FutureWarning: Function safe_indexing is deprecated; safe_indexing is deprecated in version 0.22 and will be removed in version 0.24.\n",
      "  warnings.warn(msg, category=FutureWarning)\n",
      "C:\\Users\\Jungd\\Anaconda3\\lib\\site-packages\\sklearn\\utils\\deprecation.py:87: FutureWarning: Function safe_indexing is deprecated; safe_indexing is deprecated in version 0.22 and will be removed in version 0.24.\n",
      "  warnings.warn(msg, category=FutureWarning)\n",
      "C:\\Users\\Jungd\\Anaconda3\\lib\\site-packages\\sklearn\\utils\\deprecation.py:87: FutureWarning: Function safe_indexing is deprecated; safe_indexing is deprecated in version 0.22 and will be removed in version 0.24.\n",
      "  warnings.warn(msg, category=FutureWarning)\n",
      "C:\\Users\\Jungd\\Anaconda3\\lib\\site-packages\\sklearn\\utils\\deprecation.py:87: FutureWarning: Function safe_indexing is deprecated; safe_indexing is deprecated in version 0.22 and will be removed in version 0.24.\n",
      "  warnings.warn(msg, category=FutureWarning)\n",
      "C:\\Users\\Jungd\\Anaconda3\\lib\\site-packages\\sklearn\\utils\\deprecation.py:87: FutureWarning: Function safe_indexing is deprecated; safe_indexing is deprecated in version 0.22 and will be removed in version 0.24.\n",
      "  warnings.warn(msg, category=FutureWarning)\n",
      "C:\\Users\\Jungd\\Anaconda3\\lib\\site-packages\\sklearn\\utils\\deprecation.py:87: FutureWarning: Function safe_indexing is deprecated; safe_indexing is deprecated in version 0.22 and will be removed in version 0.24.\n",
      "  warnings.warn(msg, category=FutureWarning)\n",
      "C:\\Users\\Jungd\\Anaconda3\\lib\\site-packages\\sklearn\\utils\\deprecation.py:87: FutureWarning: Function safe_indexing is deprecated; safe_indexing is deprecated in version 0.22 and will be removed in version 0.24.\n",
      "  warnings.warn(msg, category=FutureWarning)\n",
      "C:\\Users\\Jungd\\Anaconda3\\lib\\site-packages\\sklearn\\utils\\deprecation.py:87: FutureWarning: Function safe_indexing is deprecated; safe_indexing is deprecated in version 0.22 and will be removed in version 0.24.\n",
      "  warnings.warn(msg, category=FutureWarning)\n",
      "C:\\Users\\Jungd\\Anaconda3\\lib\\site-packages\\sklearn\\utils\\deprecation.py:87: FutureWarning: Function safe_indexing is deprecated; safe_indexing is deprecated in version 0.22 and will be removed in version 0.24.\n",
      "  warnings.warn(msg, category=FutureWarning)\n",
      "C:\\Users\\Jungd\\Anaconda3\\lib\\site-packages\\sklearn\\utils\\deprecation.py:87: FutureWarning: Function safe_indexing is deprecated; safe_indexing is deprecated in version 0.22 and will be removed in version 0.24.\n",
      "  warnings.warn(msg, category=FutureWarning)\n",
      "C:\\Users\\Jungd\\Anaconda3\\lib\\site-packages\\sklearn\\utils\\deprecation.py:87: FutureWarning: Function safe_indexing is deprecated; safe_indexing is deprecated in version 0.22 and will be removed in version 0.24.\n",
      "  warnings.warn(msg, category=FutureWarning)\n",
      "C:\\Users\\Jungd\\Anaconda3\\lib\\site-packages\\sklearn\\utils\\deprecation.py:87: FutureWarning: Function safe_indexing is deprecated; safe_indexing is deprecated in version 0.22 and will be removed in version 0.24.\n",
      "  warnings.warn(msg, category=FutureWarning)\n",
      "C:\\Users\\Jungd\\Anaconda3\\lib\\site-packages\\sklearn\\utils\\deprecation.py:87: FutureWarning: Function safe_indexing is deprecated; safe_indexing is deprecated in version 0.22 and will be removed in version 0.24.\n",
      "  warnings.warn(msg, category=FutureWarning)\n",
      "C:\\Users\\Jungd\\Anaconda3\\lib\\site-packages\\sklearn\\utils\\deprecation.py:87: FutureWarning: Function safe_indexing is deprecated; safe_indexing is deprecated in version 0.22 and will be removed in version 0.24.\n",
      "  warnings.warn(msg, category=FutureWarning)\n",
      "C:\\Users\\Jungd\\Anaconda3\\lib\\site-packages\\sklearn\\utils\\deprecation.py:87: FutureWarning: Function safe_indexing is deprecated; safe_indexing is deprecated in version 0.22 and will be removed in version 0.24.\n",
      "  warnings.warn(msg, category=FutureWarning)\n",
      "C:\\Users\\Jungd\\Anaconda3\\lib\\site-packages\\sklearn\\utils\\deprecation.py:87: FutureWarning: Function safe_indexing is deprecated; safe_indexing is deprecated in version 0.22 and will be removed in version 0.24.\n",
      "  warnings.warn(msg, category=FutureWarning)\n",
      "C:\\Users\\Jungd\\Anaconda3\\lib\\site-packages\\sklearn\\utils\\deprecation.py:87: FutureWarning: Function safe_indexing is deprecated; safe_indexing is deprecated in version 0.22 and will be removed in version 0.24.\n",
      "  warnings.warn(msg, category=FutureWarning)\n",
      "C:\\Users\\Jungd\\Anaconda3\\lib\\site-packages\\sklearn\\utils\\deprecation.py:87: FutureWarning: Function safe_indexing is deprecated; safe_indexing is deprecated in version 0.22 and will be removed in version 0.24.\n",
      "  warnings.warn(msg, category=FutureWarning)\n",
      "C:\\Users\\Jungd\\Anaconda3\\lib\\site-packages\\sklearn\\utils\\deprecation.py:87: FutureWarning: Function safe_indexing is deprecated; safe_indexing is deprecated in version 0.22 and will be removed in version 0.24.\n",
      "  warnings.warn(msg, category=FutureWarning)\n",
      "C:\\Users\\Jungd\\Anaconda3\\lib\\site-packages\\sklearn\\utils\\deprecation.py:87: FutureWarning: Function safe_indexing is deprecated; safe_indexing is deprecated in version 0.22 and will be removed in version 0.24.\n",
      "  warnings.warn(msg, category=FutureWarning)\n"
     ]
    },
    {
     "data": {
      "image/png": "[encoded data removed]",
      "text/plain": [
       "<Figure size 432x288 with 1 Axes>"
      ]
     },
     "metadata": {},
     "output_type": "display_data"
    },
    {
     "data": {
      "text/plain": [
       "<matplotlib.axes._subplots.AxesSubplot at 0x2093c7e2e48>"
      ]
     },
     "execution_count": 21,
     "metadata": {},
     "output_type": "execute_result"
    }
   ],
   "source": [
    "from yellowbrick.classifier import DiscriminationThreshold\n",
    "\n",
    "model = LogisticRegression(multi_class=\"auto\", solver=\"liblinear\")\n",
    "visualizer = DiscriminationThreshold(model)\n",
    "visualizer.fit(X_test, y_test)      \n",
    "visualizer.show()   "
   ]
  },
  {
   "cell_type": "markdown",
   "metadata": {},
   "source": [
    "from yellowbrick.model_selection import ValidationCurve\n",
    "\n",
    "viz = ValidationCurve(LogisticRegression(),param_name=\"Logit\", param_range=???, cv=8, scoring=\"f1_weighted\", random_state=42)\n",
    "viz.fit(X_test, y_test)\n",
    "viz.show()"
   ]
  },
  {
   "cell_type": "code",
   "execution_count": 22,
   "metadata": {},
   "outputs": [
    {
     "name": "stderr",
     "output_type": "stream",
     "text": [
      "C:\\Users\\Jungd\\Anaconda3\\lib\\site-packages\\sklearn\\base.py:197: FutureWarning: From version 0.24, get_params will raise an AttributeError if a parameter cannot be retrieved as an instance attribute. Previously it would return None.\n",
      "  FutureWarning)\n"
     ]
    },
    {
     "data": {
      "image/png": "[encoded data removed]",
      "text/plain": [
       "<Figure size 432x288 with 1 Axes>"
      ]
     },
     "metadata": {},
     "output_type": "display_data"
    },
    {
     "data": {
      "text/plain": [
       "<matplotlib.axes._subplots.AxesSubplot at 0x2093d178080>"
      ]
     },
     "execution_count": 22,
     "metadata": {},
     "output_type": "execute_result"
    }
   ],
   "source": [
    "from yellowbrick.model_selection import LearningCurve\n",
    "\n",
    "model = LogisticRegression(multi_class=\"auto\", solver=\"liblinear\", random_state=42)\n",
    "visualizer = LearningCurve(model, scoring='f1_weighted')\n",
    "visualizer.fit(X_test, y_test)        # Fit the data to the visualizer\n",
    "visualizer.show()  "
   ]
  },
  {
   "cell_type": "code",
   "execution_count": 24,
   "metadata": {},
   "outputs": [
    {
     "name": "stderr",
     "output_type": "stream",
     "text": [
      "C:\\Users\\Jungd\\Anaconda3\\lib\\site-packages\\sklearn\\base.py:197: FutureWarning: From version 0.24, get_params will raise an AttributeError if a parameter cannot be retrieved as an instance attribute. Previously it would return None.\n",
      "  FutureWarning)\n"
     ]
    },
    {
     "data": {
      "image/png": "[encoded data removed]",
      "text/plain": [
       "<Figure size 432x288 with 1 Axes>"
      ]
     },
     "metadata": {},
     "output_type": "display_data"
    },
    {
     "data": {
      "text/plain": [
       "<matplotlib.axes._subplots.AxesSubplot at 0x20902479588>"
      ]
     },
     "execution_count": 24,
     "metadata": {},
     "output_type": "execute_result"
    }
   ],
   "source": [
    "from yellowbrick.model_selection import LearningCurve\n",
    "\n",
    "visualizer = LearningCurve(model, scoring='r2')\n",
    "visualizer.fit(X_test, y_test)        # Fit the data to the visualizer\n",
    "visualizer.show() "
   ]
  },
  {
   "cell_type": "code",
   "execution_count": 25,
   "metadata": {},
   "outputs": [
    {
     "name": "stdout",
     "output_type": "stream",
     "text": [
      "              precision    recall  f1-score   support\n",
      "\n",
      "        Stay       0.84      0.94      0.89     37643\n",
      "       Leave       0.70      0.41      0.52     11571\n",
      "\n",
      "    accuracy                           0.82     49214\n",
      "   macro avg       0.77      0.68      0.70     49214\n",
      "weighted avg       0.81      0.82      0.80     49214\n",
      "\n"
     ]
    }
   ],
   "source": [
    "target_names = ['Stay', 'Leave']\n",
    "print(classification_report(y_test, y_predict, target_names=target_names))"
   ]
  },
  {
   "cell_type": "code",
   "execution_count": 26,
   "metadata": {},
   "outputs": [
    {
     "name": "stderr",
     "output_type": "stream",
     "text": [
      "C:\\Users\\Jungd\\Anaconda3\\lib\\site-packages\\sklearn\\model_selection\\_split.py:296: FutureWarning: Setting a random_state has no effect since shuffle is False. This will raise an error in 0.24. You should leave random_state to its default (None), or set shuffle=True.\n",
      "  FutureWarning\n"
     ]
    },
    {
     "data": {
      "image/png": "[encoded data removed]",
      "text/plain": [
       "<Figure size 432x288 with 1 Axes>"
      ]
     },
     "metadata": {},
     "output_type": "display_data"
    },
    {
     "data": {
      "text/plain": [
       "<matplotlib.axes._subplots.AxesSubplot at 0x2093c6fa1d0>"
      ]
     },
     "execution_count": 26,
     "metadata": {},
     "output_type": "execute_result"
    }
   ],
   "source": [
    "from sklearn.model_selection import StratifiedKFold\n",
    "from yellowbrick.model_selection import CVScores\n",
    "# Create a cross-validation strategy\n",
    "cv = StratifiedKFold(n_splits=10, random_state=42)\n",
    "# Instantiate the classification model and visualizer\n",
    "visualizer = CVScores(model, cv=cv, scoring='f1_weighted')\n",
    "visualizer.fit(X_test, y_test)        # Fit the data to the visualizer\n",
    "visualizer.show()"
   ]
  },
  {
   "cell_type": "code",
   "execution_count": 27,
   "metadata": {},
   "outputs": [
    {
     "data": {
      "text/plain": [
       "array([[-0.09027329,  0.11827996, -0.34613925,  0.0555368 ,  0.129013  ,\n",
       "        -0.02537519,  0.05917918,  0.0471721 , -0.05630211, -0.08678244,\n",
       "        -0.06129082,  0.00197121,  0.14357697, -0.02063495, -0.01897107,\n",
       "        -0.17219606,  0.08798596, -0.02684703, -0.00098566,  0.04282866,\n",
       "         0.04818507,  0.02610529, -0.06229248,  0.01910359, -0.01804658,\n",
       "        -0.02684814, -0.0073057 , -0.02017529,  0.01592887, -0.00173328,\n",
       "        -0.01661172,  0.04265079, -0.01769118,  0.01061085,  0.05442856,\n",
       "         0.03962802,  0.02078225,  0.00295674, -0.00087444,  0.08469666,\n",
       "         0.03175759, -0.07935936, -0.02751317,  0.1368376 , -0.40167247,\n",
       "        -0.0381684 , -0.0210795 ,  0.03041796, -0.07057055,  0.08746183,\n",
       "         0.01007275,  0.00904138,  0.07425727,  0.00103643,  0.00763609,\n",
       "        -0.08806252, -0.10111021, -0.02556188, -0.00144589,  0.03375406,\n",
       "        -0.03631773,  0.01665385, -0.02796491,  0.07132005, -0.04884334,\n",
       "         0.06156282, -0.05338036,  0.04954919,  0.04206363,  0.02670652,\n",
       "         0.11168462, -0.50100814,  0.05332359, -0.43830434, -0.12390129,\n",
       "        -0.23262022]])"
      ]
     },
     "execution_count": 27,
     "metadata": {},
     "output_type": "execute_result"
    }
   ],
   "source": [
    "mlr.coef_"
   ]
  },
  {
   "cell_type": "code",
   "execution_count": 28,
   "metadata": {},
   "outputs": [],
   "source": [
    "df2 = mlr.coef_"
   ]
  },
  {
   "cell_type": "code",
   "execution_count": 29,
   "metadata": {},
   "outputs": [
    {
     "data": {
      "text/plain": [
       "(1, 76)"
      ]
     },
     "execution_count": 29,
     "metadata": {},
     "output_type": "execute_result"
    }
   ],
   "source": [
    "df2.shape"
   ]
  },
  {
   "cell_type": "code",
   "execution_count": 30,
   "metadata": {},
   "outputs": [],
   "source": [
    "dfm = pd.DataFrame([-0.09027329,  0.11827996, -0.34613925,  0.0555368 ,  0.129013  ,\n",
    "        -0.02537519,  0.05917918,  0.0471721 , -0.05630211, -0.08678244,\n",
    "        -0.06129082,  0.00197121,  0.14357697, -0.02063495, -0.01897107,\n",
    "        -0.17219606,  0.08798596, -0.02684703, -0.00098566,  0.04282866,\n",
    "         0.04818507,  0.02610529, -0.06229248,  0.01910359, -0.01804658,\n",
    "        -0.02684814, -0.0073057 , -0.02017529,  0.01592887, -0.00173328,\n",
    "        -0.01661172,  0.04265079, -0.01769118,  0.01061085,  0.05442856,\n",
    "         0.03962802,  0.02078225,  0.00295674, -0.00087444,  0.08469666,\n",
    "         0.03175759, -0.07935936, -0.02751317,  0.1368376 , -0.40167247,\n",
    "        -0.0381684 , -0.0210795 ,  0.03041796, -0.07057055,  0.08746183,\n",
    "         0.01007275,  0.00904138,  0.07425727,  0.00103643,  0.00763609,\n",
    "        -0.08806252, -0.10111021, -0.02556188, -0.00144589,  0.03375406,\n",
    "        -0.03631773,  0.01665385, -0.02796491,  0.07132005, -0.04884334,\n",
    "         0.06156282, -0.05338036,  0.04954919,  0.04206363,  0.02670652,\n",
    "         0.11168462, -0.50100814,  0.05332359, -0.43830434, -0.12390129,\n",
    "        -0.23262022], columns=[\"Weights\"])"
   ]
  },
  {
   "cell_type": "code",
   "execution_count": 31,
   "metadata": {},
   "outputs": [
    {
     "data": {
      "text/plain": [
       "Index(['sex', 'education', 'tenure', 'supervisor', 'minority', 'Q1', 'Q2',\n",
       "       'Q3', 'Q4', 'Q5', 'Q6', 'Q7', 'Q8', 'Q9', 'Q10', 'Q11', 'Q12', 'Q13',\n",
       "       'Q14', 'Q15', 'Q16', 'Q17', 'Q18', 'Q19', 'Q20', 'Q21', 'Q22', 'Q23',\n",
       "       'Q24', 'Q25', 'Q26', 'Q27', 'Q28', 'Q29', 'Q30', 'Q31', 'Q32', 'Q33',\n",
       "       'Q34', 'Q35', 'Q36', 'Q37', 'Q38', 'Q39', 'Q40', 'Q41', 'Q42', 'Q43',\n",
       "       'Q44', 'Q45', 'Q46', 'Q47', 'Q48', 'Q49', 'Q50', 'Q51', 'Q52', 'Q53',\n",
       "       'Q54', 'Q55', 'Q56', 'Q57', 'Q58', 'Q59', 'Q60', 'Q61', 'Q62', 'Q63',\n",
       "       'Q64', 'Q65', 'Q66', 'Q67', 'Q68', 'Q69', 'Q70', 'Q71'],\n",
       "      dtype='object')"
      ]
     },
     "execution_count": 31,
     "metadata": {},
     "output_type": "execute_result"
    }
   ],
   "source": [
    "X.columns"
   ]
  },
  {
   "cell_type": "code",
   "execution_count": 32,
   "metadata": {},
   "outputs": [],
   "source": [
    "dfm['Features'] = ['sex', 'education', 'tenure', 'supervisor', 'minority', 'Q1', 'Q2',\n",
    "       'Q3', 'Q4', 'Q5', 'Q6', 'Q7', 'Q8', 'Q9', 'Q10', 'Q11', 'Q12', 'Q13',\n",
    "       'Q14', 'Q15', 'Q16', 'Q17', 'Q18', 'Q19', 'Q20', 'Q21', 'Q22', 'Q23',\n",
    "       'Q24', 'Q25', 'Q26', 'Q27', 'Q28', 'Q29', 'Q30', 'Q31', 'Q32', 'Q33',\n",
    "       'Q34', 'Q35', 'Q36', 'Q37', 'Q38', 'Q39', 'Q40', 'Q41', 'Q42', 'Q43',\n",
    "       'Q44', 'Q45', 'Q46', 'Q47', 'Q48', 'Q49', 'Q50', 'Q51', 'Q52', 'Q53',\n",
    "       'Q54', 'Q55', 'Q56', 'Q57', 'Q58', 'Q59', 'Q60', 'Q61', 'Q62', 'Q63',\n",
    "       'Q64', 'Q65', 'Q66', 'Q67', 'Q68', 'Q69', 'Q70', 'Q71']"
   ]
  },
  {
   "cell_type": "code",
   "execution_count": 33,
   "metadata": {},
   "outputs": [
    {
     "data": {
      "text/html": [
       "<div>\n",
       "<style scoped>\n",
       "    .dataframe tbody tr th:only-of-type {\n",
       "        vertical-align: middle;\n",
       "    }\n",
       "\n",
       "    .dataframe tbody tr th {\n",
       "        vertical-align: top;\n",
       "    }\n",
       "\n",
       "    .dataframe thead th {\n",
       "        text-align: right;\n",
       "    }\n",
       "</style>\n",
       "<table border=\"1\" class=\"dataframe\">\n",
       "  <thead>\n",
       "    <tr style=\"text-align: right;\">\n",
       "      <th></th>\n",
       "      <th>Weights</th>\n",
       "      <th>Features</th>\n",
       "    </tr>\n",
       "  </thead>\n",
       "  <tbody>\n",
       "    <tr>\n",
       "      <th>0</th>\n",
       "      <td>-0.09</td>\n",
       "      <td>sex</td>\n",
       "    </tr>\n",
       "    <tr>\n",
       "      <th>1</th>\n",
       "      <td>0.12</td>\n",
       "      <td>education</td>\n",
       "    </tr>\n",
       "    <tr>\n",
       "      <th>2</th>\n",
       "      <td>-0.35</td>\n",
       "      <td>tenure</td>\n",
       "    </tr>\n",
       "    <tr>\n",
       "      <th>3</th>\n",
       "      <td>0.06</td>\n",
       "      <td>supervisor</td>\n",
       "    </tr>\n",
       "    <tr>\n",
       "      <th>4</th>\n",
       "      <td>0.13</td>\n",
       "      <td>minority</td>\n",
       "    </tr>\n",
       "    <tr>\n",
       "      <th>...</th>\n",
       "      <td>...</td>\n",
       "      <td>...</td>\n",
       "    </tr>\n",
       "    <tr>\n",
       "      <th>71</th>\n",
       "      <td>-0.50</td>\n",
       "      <td>Q67</td>\n",
       "    </tr>\n",
       "    <tr>\n",
       "      <th>72</th>\n",
       "      <td>0.05</td>\n",
       "      <td>Q68</td>\n",
       "    </tr>\n",
       "    <tr>\n",
       "      <th>73</th>\n",
       "      <td>-0.44</td>\n",
       "      <td>Q69</td>\n",
       "    </tr>\n",
       "    <tr>\n",
       "      <th>74</th>\n",
       "      <td>-0.12</td>\n",
       "      <td>Q70</td>\n",
       "    </tr>\n",
       "    <tr>\n",
       "      <th>75</th>\n",
       "      <td>-0.23</td>\n",
       "      <td>Q71</td>\n",
       "    </tr>\n",
       "  </tbody>\n",
       "</table>\n",
       "<p>76 rows × 2 columns</p>\n",
       "</div>"
      ],
      "text/plain": [
       "    Weights    Features\n",
       "0     -0.09         sex\n",
       "1      0.12   education\n",
       "2     -0.35      tenure\n",
       "3      0.06  supervisor\n",
       "4      0.13    minority\n",
       "..      ...         ...\n",
       "71    -0.50         Q67\n",
       "72     0.05         Q68\n",
       "73    -0.44         Q69\n",
       "74    -0.12         Q70\n",
       "75    -0.23         Q71\n",
       "\n",
       "[76 rows x 2 columns]"
      ]
     },
     "execution_count": 33,
     "metadata": {},
     "output_type": "execute_result"
    }
   ],
   "source": [
    "dfm"
   ]
  },
  {
   "cell_type": "code",
   "execution_count": 34,
   "metadata": {},
   "outputs": [],
   "source": [
    "dfm2 = dfm.sort_values(by=\"Weights\", ascending=False)\n",
    "#DataFrame.sort_values(self, by, axis=0, ascending=True, inplace=False, kind='quicksort', na_position='last', ignore_index=False"
   ]
  },
  {
   "cell_type": "code",
   "execution_count": 35,
   "metadata": {},
   "outputs": [
    {
     "data": {
      "text/html": [
       "<div>\n",
       "<style scoped>\n",
       "    .dataframe tbody tr th:only-of-type {\n",
       "        vertical-align: middle;\n",
       "    }\n",
       "\n",
       "    .dataframe tbody tr th {\n",
       "        vertical-align: top;\n",
       "    }\n",
       "\n",
       "    .dataframe thead th {\n",
       "        text-align: right;\n",
       "    }\n",
       "</style>\n",
       "<table border=\"1\" class=\"dataframe\">\n",
       "  <thead>\n",
       "    <tr style=\"text-align: right;\">\n",
       "      <th></th>\n",
       "      <th>Weights</th>\n",
       "      <th>Features</th>\n",
       "    </tr>\n",
       "  </thead>\n",
       "  <tbody>\n",
       "    <tr>\n",
       "      <th>12</th>\n",
       "      <td>0.14</td>\n",
       "      <td>Q8</td>\n",
       "    </tr>\n",
       "    <tr>\n",
       "      <th>43</th>\n",
       "      <td>0.14</td>\n",
       "      <td>Q39</td>\n",
       "    </tr>\n",
       "    <tr>\n",
       "      <th>4</th>\n",
       "      <td>0.13</td>\n",
       "      <td>minority</td>\n",
       "    </tr>\n",
       "    <tr>\n",
       "      <th>1</th>\n",
       "      <td>0.12</td>\n",
       "      <td>education</td>\n",
       "    </tr>\n",
       "    <tr>\n",
       "      <th>70</th>\n",
       "      <td>0.11</td>\n",
       "      <td>Q66</td>\n",
       "    </tr>\n",
       "    <tr>\n",
       "      <th>...</th>\n",
       "      <td>...</td>\n",
       "      <td>...</td>\n",
       "    </tr>\n",
       "    <tr>\n",
       "      <th>75</th>\n",
       "      <td>-0.23</td>\n",
       "      <td>Q71</td>\n",
       "    </tr>\n",
       "    <tr>\n",
       "      <th>2</th>\n",
       "      <td>-0.35</td>\n",
       "      <td>tenure</td>\n",
       "    </tr>\n",
       "    <tr>\n",
       "      <th>44</th>\n",
       "      <td>-0.40</td>\n",
       "      <td>Q40</td>\n",
       "    </tr>\n",
       "    <tr>\n",
       "      <th>73</th>\n",
       "      <td>-0.44</td>\n",
       "      <td>Q69</td>\n",
       "    </tr>\n",
       "    <tr>\n",
       "      <th>71</th>\n",
       "      <td>-0.50</td>\n",
       "      <td>Q67</td>\n",
       "    </tr>\n",
       "  </tbody>\n",
       "</table>\n",
       "<p>76 rows × 2 columns</p>\n",
       "</div>"
      ],
      "text/plain": [
       "    Weights   Features\n",
       "12     0.14         Q8\n",
       "43     0.14        Q39\n",
       "4      0.13   minority\n",
       "1      0.12  education\n",
       "70     0.11        Q66\n",
       "..      ...        ...\n",
       "75    -0.23        Q71\n",
       "2     -0.35     tenure\n",
       "44    -0.40        Q40\n",
       "73    -0.44        Q69\n",
       "71    -0.50        Q67\n",
       "\n",
       "[76 rows x 2 columns]"
      ]
     },
     "execution_count": 35,
     "metadata": {},
     "output_type": "execute_result"
    }
   ],
   "source": [
    "dfm2"
   ]
  },
  {
   "cell_type": "code",
   "execution_count": 36,
   "metadata": {},
   "outputs": [],
   "source": [
    "dfm3 = dfm2[dfm2['Weights']>.09]"
   ]
  },
  {
   "cell_type": "code",
   "execution_count": 37,
   "metadata": {},
   "outputs": [],
   "source": [
    "dfm4 = dfm2[dfm2['Weights']<-.1]"
   ]
  },
  {
   "cell_type": "code",
   "execution_count": 38,
   "metadata": {},
   "outputs": [],
   "source": [
    "dfm5 = pd.concat([dfm3, dfm4])"
   ]
  },
  {
   "cell_type": "code",
   "execution_count": 39,
   "metadata": {},
   "outputs": [
    {
     "data": {
      "text/html": [
       "<div>\n",
       "<style scoped>\n",
       "    .dataframe tbody tr th:only-of-type {\n",
       "        vertical-align: middle;\n",
       "    }\n",
       "\n",
       "    .dataframe tbody tr th {\n",
       "        vertical-align: top;\n",
       "    }\n",
       "\n",
       "    .dataframe thead th {\n",
       "        text-align: right;\n",
       "    }\n",
       "</style>\n",
       "<table border=\"1\" class=\"dataframe\">\n",
       "  <thead>\n",
       "    <tr style=\"text-align: right;\">\n",
       "      <th></th>\n",
       "      <th>Weights</th>\n",
       "      <th>Features</th>\n",
       "    </tr>\n",
       "  </thead>\n",
       "  <tbody>\n",
       "    <tr>\n",
       "      <th>12</th>\n",
       "      <td>0.14</td>\n",
       "      <td>Q8</td>\n",
       "    </tr>\n",
       "    <tr>\n",
       "      <th>43</th>\n",
       "      <td>0.14</td>\n",
       "      <td>Q39</td>\n",
       "    </tr>\n",
       "    <tr>\n",
       "      <th>4</th>\n",
       "      <td>0.13</td>\n",
       "      <td>minority</td>\n",
       "    </tr>\n",
       "    <tr>\n",
       "      <th>1</th>\n",
       "      <td>0.12</td>\n",
       "      <td>education</td>\n",
       "    </tr>\n",
       "    <tr>\n",
       "      <th>70</th>\n",
       "      <td>0.11</td>\n",
       "      <td>Q66</td>\n",
       "    </tr>\n",
       "    <tr>\n",
       "      <th>56</th>\n",
       "      <td>-0.10</td>\n",
       "      <td>Q52</td>\n",
       "    </tr>\n",
       "    <tr>\n",
       "      <th>74</th>\n",
       "      <td>-0.12</td>\n",
       "      <td>Q70</td>\n",
       "    </tr>\n",
       "    <tr>\n",
       "      <th>15</th>\n",
       "      <td>-0.17</td>\n",
       "      <td>Q11</td>\n",
       "    </tr>\n",
       "    <tr>\n",
       "      <th>75</th>\n",
       "      <td>-0.23</td>\n",
       "      <td>Q71</td>\n",
       "    </tr>\n",
       "    <tr>\n",
       "      <th>2</th>\n",
       "      <td>-0.35</td>\n",
       "      <td>tenure</td>\n",
       "    </tr>\n",
       "    <tr>\n",
       "      <th>44</th>\n",
       "      <td>-0.40</td>\n",
       "      <td>Q40</td>\n",
       "    </tr>\n",
       "    <tr>\n",
       "      <th>73</th>\n",
       "      <td>-0.44</td>\n",
       "      <td>Q69</td>\n",
       "    </tr>\n",
       "    <tr>\n",
       "      <th>71</th>\n",
       "      <td>-0.50</td>\n",
       "      <td>Q67</td>\n",
       "    </tr>\n",
       "  </tbody>\n",
       "</table>\n",
       "</div>"
      ],
      "text/plain": [
       "    Weights   Features\n",
       "12     0.14         Q8\n",
       "43     0.14        Q39\n",
       "4      0.13   minority\n",
       "1      0.12  education\n",
       "70     0.11        Q66\n",
       "56    -0.10        Q52\n",
       "74    -0.12        Q70\n",
       "15    -0.17        Q11\n",
       "75    -0.23        Q71\n",
       "2     -0.35     tenure\n",
       "44    -0.40        Q40\n",
       "73    -0.44        Q69\n",
       "71    -0.50        Q67"
      ]
     },
     "execution_count": 39,
     "metadata": {},
     "output_type": "execute_result"
    }
   ],
   "source": [
    "dfm5"
   ]
  },
  {
   "cell_type": "code",
   "execution_count": 40,
   "metadata": {},
   "outputs": [],
   "source": [
    "XQ = df[['education', 'tenure', 'minority', 'Q8', 'Q11', 'Q39', 'Q40', 'Q66', 'Q52', 'Q70', 'Q71', 'Q69', 'Q67']]\n",
    "y = df.leaving         "
   ]
  },
  {
   "cell_type": "code",
   "execution_count": 41,
   "metadata": {},
   "outputs": [
    {
     "name": "stdout",
     "output_type": "stream",
     "text": [
      "[[ 0.1776036  -0.42566665  0.2304105   0.22151662 -0.11520854  0.21844607\n",
      "  -0.38315182  0.15089837 -0.05353311 -0.09570196 -0.20858807 -0.46568216\n",
      "  -0.38126448]]\n",
      "[2.79966464]\n",
      "0.8201255752994605\n",
      "0.819075872719145\n"
     ]
    }
   ],
   "source": [
    "X_train, X_test, y_train, y_test = train_test_split(XQ, y, train_size=0.8, test_size=0.2, random_state=42)\n",
    "\n",
    "mlr = LogisticRegression(penalty='elasticnet', l1_ratio=.5, multi_class=\"auto\", solver=\"saga\", random_state=42)\n",
    "mlr.fit(X_train, y_train) \n",
    "y_predict = mlr.predict(X_test)\n",
    "print(mlr.coef_)\n",
    "print(mlr.intercept_)\n",
    "print(mlr.score(X_train, y_train))\n",
    "print(mlr.score(X_test, y_test))"
   ]
  },
  {
   "cell_type": "code",
   "execution_count": 42,
   "metadata": {},
   "outputs": [
    {
     "name": "stdout",
     "output_type": "stream",
     "text": [
      "Optimization terminated successfully.\n",
      "         Current function value: 0.415606\n",
      "         Iterations 6\n",
      "                           Logit Regression Results                           \n",
      "==============================================================================\n",
      "Dep. Variable:                leaving   No. Observations:               246068\n",
      "Model:                          Logit   Df Residuals:                   246054\n",
      "Method:                           MLE   Df Model:                           13\n",
      "Date:                Thu, 16 Apr 2020   Pseudo R-squ.:                  0.2347\n",
      "Time:                        10:19:55   Log-Likelihood:            -1.0227e+05\n",
      "converged:                       True   LL-Null:                   -1.3364e+05\n",
      "Covariance Type:            nonrobust   LLR p-value:                     0.000\n",
      "==============================================================================\n",
      "                 coef    std err          z      P>|z|      [0.025      0.975]\n",
      "------------------------------------------------------------------------------\n",
      "const          2.8170      0.045     62.139      0.000       2.728       2.906\n",
      "education      0.1779      0.007     25.051      0.000       0.164       0.192\n",
      "tenure        -0.4168      0.008    -54.887      0.000      -0.432      -0.402\n",
      "minority       0.2327      0.012     19.950      0.000       0.210       0.256\n",
      "Q8             0.2147      0.009     25.104      0.000       0.198       0.232\n",
      "Q11           -0.1102      0.006    -17.108      0.000      -0.123      -0.098\n",
      "Q39            0.2155      0.009     25.009      0.000       0.199       0.232\n",
      "Q40           -0.3864      0.009    -43.439      0.000      -0.404      -0.369\n",
      "Q66            0.1490      0.008     18.961      0.000       0.134       0.164\n",
      "Q52           -0.0489      0.006     -8.066      0.000      -0.061      -0.037\n",
      "Q70           -0.0955      0.006    -16.834      0.000      -0.107      -0.084\n",
      "Q71           -0.2031      0.010    -19.416      0.000      -0.224      -0.183\n",
      "Q69           -0.4715      0.009    -49.967      0.000      -0.490      -0.453\n",
      "Q67           -0.3837      0.007    -58.810      0.000      -0.396      -0.371\n",
      "==============================================================================\n"
     ]
    }
   ],
   "source": [
    "X2 = sm.add_constant(XQ) \n",
    "model6 = sm.Logit(y, X2).fit()\n",
    "print(model6.summary())"
   ]
  },
  {
   "cell_type": "code",
   "execution_count": 44,
   "metadata": {},
   "outputs": [
    {
     "name": "stderr",
     "output_type": "stream",
     "text": [
      "C:\\Users\\Jungd\\Anaconda3\\lib\\site-packages\\sklearn\\base.py:197: FutureWarning: From version 0.24, get_params will raise an AttributeError if a parameter cannot be retrieved as an instance attribute. Previously it would return None.\n",
      "  FutureWarning)\n",
      "C:\\Users\\Jungd\\Anaconda3\\lib\\site-packages\\yellowbrick\\model_selection\\importances.py:195: YellowbrickWarning: detected multi-dimensional feature importances but stack=False, using mean to aggregate them.\n",
      "  YellowbrickWarning,\n"
     ]
    },
    {
     "data": {
      "image/png": "[encoded data removed]",
      "text/plain": [
       "<Figure size 432x288 with 1 Axes>"
      ]
     },
     "metadata": {},
     "output_type": "display_data"
    },
    {
     "data": {
      "text/plain": [
       "<matplotlib.axes._subplots.AxesSubplot at 0x2093c88c7f0>"
      ]
     },
     "execution_count": 44,
     "metadata": {},
     "output_type": "execute_result"
    }
   ],
   "source": [
    "from yellowbrick.model_selection import FeatureImportances\n",
    "\n",
    "viz = FeatureImportances(mlr)\n",
    "viz.fit(X_test, y_test)\n",
    "viz.show()"
   ]
  },
  {
   "cell_type": "code",
   "execution_count": 45,
   "metadata": {},
   "outputs": [],
   "source": [
    "dfp = pd.DataFrame([ 0.1776036 ,-0.42566665 , 0.2304105 ,  0.22151662, -0.11520854  ,0.21844607,\n",
    "  -0.38315182,  0.15089837, -0.05353311, -0.09570196, -0.20858807, -0.46568216,\n",
    "  -0.38126448], columns=[\"Weights\"])"
   ]
  },
  {
   "cell_type": "code",
   "execution_count": 46,
   "metadata": {},
   "outputs": [],
   "source": [
    "dfp['Features'] = ['education', 'tenure', 'minority', 'Q8', 'Q11', 'Q39', 'Q40', 'Q66', 'Q52', 'Q70', 'Q71', 'Q69', 'Q67']"
   ]
  },
  {
   "cell_type": "code",
   "execution_count": 47,
   "metadata": {},
   "outputs": [
    {
     "data": {
      "text/html": [
       "<div>\n",
       "<style scoped>\n",
       "    .dataframe tbody tr th:only-of-type {\n",
       "        vertical-align: middle;\n",
       "    }\n",
       "\n",
       "    .dataframe tbody tr th {\n",
       "        vertical-align: top;\n",
       "    }\n",
       "\n",
       "    .dataframe thead th {\n",
       "        text-align: right;\n",
       "    }\n",
       "</style>\n",
       "<table border=\"1\" class=\"dataframe\">\n",
       "  <thead>\n",
       "    <tr style=\"text-align: right;\">\n",
       "      <th></th>\n",
       "      <th>Weights</th>\n",
       "      <th>Features</th>\n",
       "    </tr>\n",
       "  </thead>\n",
       "  <tbody>\n",
       "    <tr>\n",
       "      <th>0</th>\n",
       "      <td>0.18</td>\n",
       "      <td>education</td>\n",
       "    </tr>\n",
       "    <tr>\n",
       "      <th>1</th>\n",
       "      <td>-0.43</td>\n",
       "      <td>tenure</td>\n",
       "    </tr>\n",
       "    <tr>\n",
       "      <th>2</th>\n",
       "      <td>0.23</td>\n",
       "      <td>minority</td>\n",
       "    </tr>\n",
       "    <tr>\n",
       "      <th>3</th>\n",
       "      <td>0.22</td>\n",
       "      <td>Q8</td>\n",
       "    </tr>\n",
       "    <tr>\n",
       "      <th>4</th>\n",
       "      <td>-0.12</td>\n",
       "      <td>Q11</td>\n",
       "    </tr>\n",
       "    <tr>\n",
       "      <th>5</th>\n",
       "      <td>0.22</td>\n",
       "      <td>Q39</td>\n",
       "    </tr>\n",
       "    <tr>\n",
       "      <th>6</th>\n",
       "      <td>-0.38</td>\n",
       "      <td>Q40</td>\n",
       "    </tr>\n",
       "    <tr>\n",
       "      <th>7</th>\n",
       "      <td>0.15</td>\n",
       "      <td>Q66</td>\n",
       "    </tr>\n",
       "    <tr>\n",
       "      <th>8</th>\n",
       "      <td>-0.05</td>\n",
       "      <td>Q52</td>\n",
       "    </tr>\n",
       "    <tr>\n",
       "      <th>9</th>\n",
       "      <td>-0.10</td>\n",
       "      <td>Q70</td>\n",
       "    </tr>\n",
       "    <tr>\n",
       "      <th>10</th>\n",
       "      <td>-0.21</td>\n",
       "      <td>Q71</td>\n",
       "    </tr>\n",
       "    <tr>\n",
       "      <th>11</th>\n",
       "      <td>-0.47</td>\n",
       "      <td>Q69</td>\n",
       "    </tr>\n",
       "    <tr>\n",
       "      <th>12</th>\n",
       "      <td>-0.38</td>\n",
       "      <td>Q67</td>\n",
       "    </tr>\n",
       "  </tbody>\n",
       "</table>\n",
       "</div>"
      ],
      "text/plain": [
       "    Weights   Features\n",
       "0      0.18  education\n",
       "1     -0.43     tenure\n",
       "2      0.23   minority\n",
       "3      0.22         Q8\n",
       "4     -0.12        Q11\n",
       "5      0.22        Q39\n",
       "6     -0.38        Q40\n",
       "7      0.15        Q66\n",
       "8     -0.05        Q52\n",
       "9     -0.10        Q70\n",
       "10    -0.21        Q71\n",
       "11    -0.47        Q69\n",
       "12    -0.38        Q67"
      ]
     },
     "execution_count": 47,
     "metadata": {},
     "output_type": "execute_result"
    }
   ],
   "source": [
    "dfp"
   ]
  },
  {
   "cell_type": "code",
   "execution_count": 48,
   "metadata": {},
   "outputs": [],
   "source": [
    "\n",
    "\n",
    "#from yellowbrick.model_selection import RFECV\n",
    "\n",
    "#cv = StratifiedKFold(n_splits=5, random_state=42)\n",
    "#visualizer = RFECV(LogisticRegression(multi_class=\"auto\", solver=\"liblinear\", random_state=42), cv=cv, scoring='f1_weighted')\n",
    "#visualizer.fit(X_test, y_test)        # Fit the data to the visualizer\n",
    "#visualizer.show()   "
   ]
  },
  {
   "cell_type": "code",
   "execution_count": 49,
   "metadata": {},
   "outputs": [
    {
     "data": {
      "text/plain": [
       "(246068, 76)"
      ]
     },
     "execution_count": 49,
     "metadata": {},
     "output_type": "execute_result"
    }
   ],
   "source": [
    "X.shape"
   ]
  },
  {
   "cell_type": "code",
   "execution_count": 50,
   "metadata": {},
   "outputs": [
    {
     "data": {
      "text/plain": [
       "Q60\n",
       "1    13858\n",
       "2    15758\n",
       "3    46434\n",
       "4    88379\n",
       "5    81639\n",
       "dtype: int64"
      ]
     },
     "execution_count": 50,
     "metadata": {},
     "output_type": "execute_result"
    }
   ],
   "source": [
    "X.groupby('Q60').size()"
   ]
  },
  {
   "cell_type": "code",
   "execution_count": 51,
   "metadata": {},
   "outputs": [
    {
     "name": "stdout",
     "output_type": "stream",
     "text": [
      "Optimization terminated successfully.\n",
      "         Current function value: 0.416293\n",
      "         Iterations 6\n",
      "                           Logit Regression Results                           \n",
      "==============================================================================\n",
      "Dep. Variable:                leaving   No. Observations:               246068\n",
      "Model:                          Logit   Df Residuals:                   246056\n",
      "Method:                           MLE   Df Model:                           11\n",
      "Date:                Thu, 16 Apr 2020   Pseudo R-squ.:                  0.2335\n",
      "Time:                        10:21:16   Log-Likelihood:            -1.0244e+05\n",
      "converged:                       True   LL-Null:                   -1.3364e+05\n",
      "Covariance Type:            nonrobust   LLR p-value:                     0.000\n",
      "==============================================================================\n",
      "                 coef    std err          z      P>|z|      [0.025      0.975]\n",
      "------------------------------------------------------------------------------\n",
      "const          2.6370      0.044     60.333      0.000       2.551       2.723\n",
      "education      0.1643      0.007     23.284      0.000       0.150       0.178\n",
      "tenure        -0.4284      0.008    -56.735      0.000      -0.443      -0.414\n",
      "minority       0.2491      0.012     21.443      0.000       0.226       0.272\n",
      "Q8             0.2141      0.009     25.063      0.000       0.197       0.231\n",
      "Q11           -0.1169      0.006    -18.352      0.000      -0.129      -0.104\n",
      "Q39            0.2126      0.009     24.723      0.000       0.196       0.229\n",
      "Q40           -0.3920      0.009    -44.330      0.000      -0.409      -0.375\n",
      "Q66            0.1491      0.008     18.982      0.000       0.134       0.164\n",
      "Q71           -0.2249      0.010    -21.669      0.000      -0.245      -0.205\n",
      "Q69           -0.4971      0.009    -53.385      0.000      -0.515      -0.479\n",
      "Q67           -0.4098      0.006    -64.364      0.000      -0.422      -0.397\n",
      "==============================================================================\n"
     ]
    }
   ],
   "source": [
    "XZ = df[['education', 'tenure', 'minority', 'Q8', 'Q11', 'Q39', 'Q40', 'Q66', 'Q71', 'Q69', 'Q67']]\n",
    "\n",
    "X2 = sm.add_constant(XZ) \n",
    "model6 = sm.Logit(y, X2).fit()\n",
    "print(model6.summary())"
   ]
  },
  {
   "cell_type": "code",
   "execution_count": 52,
   "metadata": {},
   "outputs": [
    {
     "name": "stdout",
     "output_type": "stream",
     "text": [
      "[[ 0.1635817  -0.43713524  0.24689419  0.22129042 -0.12287011  0.21521046\n",
      "  -0.38928428  0.15079927 -0.23053618 -0.49223595 -0.40767281]]\n",
      "[2.61069566]\n",
      "0.8199223790220164\n",
      "0.8199496078351689\n"
     ]
    }
   ],
   "source": [
    "X_train, X_test, y_train, y_test = train_test_split(XZ, y, train_size=0.8, test_size=0.2, random_state=42)\n",
    "\n",
    "mlr = LogisticRegression(penalty='elasticnet', l1_ratio=.5, multi_class=\"auto\", solver=\"saga\", random_state=42)\n",
    "mlr.fit(X_train, y_train) \n",
    "y_predict = mlr.predict(X_test)\n",
    "print(mlr.coef_)\n",
    "print(mlr.intercept_)\n",
    "print(mlr.score(X_train, y_train))\n",
    "print(mlr.score(X_test, y_test))"
   ]
  },
  {
   "cell_type": "code",
   "execution_count": 54,
   "metadata": {},
   "outputs": [
    {
     "name": "stderr",
     "output_type": "stream",
     "text": [
      "C:\\Users\\Jungd\\Anaconda3\\lib\\site-packages\\sklearn\\base.py:197: FutureWarning: From version 0.24, get_params will raise an AttributeError if a parameter cannot be retrieved as an instance attribute. Previously it would return None.\n",
      "  FutureWarning)\n",
      "C:\\Users\\Jungd\\Anaconda3\\lib\\site-packages\\yellowbrick\\model_selection\\importances.py:195: YellowbrickWarning: detected multi-dimensional feature importances but stack=False, using mean to aggregate them.\n",
      "  YellowbrickWarning,\n"
     ]
    },
    {
     "data": {
      "image/png": "[encoded data removed]",
      "text/plain": [
       "<Figure size 432x288 with 1 Axes>"
      ]
     },
     "metadata": {},
     "output_type": "display_data"
    },
    {
     "data": {
      "text/plain": [
       "<matplotlib.axes._subplots.AxesSubplot at 0x20905a5eb00>"
      ]
     },
     "execution_count": 54,
     "metadata": {},
     "output_type": "execute_result"
    }
   ],
   "source": [
    "viz = FeatureImportances(mlr)\n",
    "viz.fit(X_test, y_test)\n",
    "viz.show()"
   ]
  },
  {
   "cell_type": "code",
   "execution_count": 55,
   "metadata": {},
   "outputs": [
    {
     "name": "stderr",
     "output_type": "stream",
     "text": [
      "C:\\Users\\Jungd\\Anaconda3\\lib\\site-packages\\sklearn\\base.py:197: FutureWarning: From version 0.24, get_params will raise an AttributeError if a parameter cannot be retrieved as an instance attribute. Previously it would return None.\n",
      "  FutureWarning)\n",
      "C:\\Users\\Jungd\\Anaconda3\\lib\\site-packages\\yellowbrick\\model_selection\\importances.py:195: YellowbrickWarning: detected multi-dimensional feature importances but stack=False, using mean to aggregate them.\n",
      "  YellowbrickWarning,\n"
     ]
    },
    {
     "data": {
      "image/png": "[encoded data removed]",
      "text/plain": [
       "<Figure size 432x288 with 1 Axes>"
      ]
     },
     "metadata": {},
     "output_type": "display_data"
    },
    {
     "data": {
      "text/plain": [
       "<matplotlib.axes._subplots.AxesSubplot at 0x20905a7a780>"
      ]
     },
     "execution_count": 55,
     "metadata": {},
     "output_type": "execute_result"
    }
   ],
   "source": [
    "viz = FeatureImportances(mlr)\n",
    "viz.fit(X_train, y_train)\n",
    "viz.show()"
   ]
  },
  {
   "cell_type": "code",
   "execution_count": 67,
   "metadata": {},
   "outputs": [
    {
     "name": "stderr",
     "output_type": "stream",
     "text": [
      "C:\\Users\\Jungd\\Anaconda3\\lib\\site-packages\\sklearn\\base.py:197: FutureWarning: From version 0.24, get_params will raise an AttributeError if a parameter cannot be retrieved as an instance attribute. Previously it would return None.\n",
      "  FutureWarning)\n",
      "C:\\Users\\Jungd\\Anaconda3\\lib\\site-packages\\yellowbrick\\model_selection\\importances.py:195: YellowbrickWarning: detected multi-dimensional feature importances but stack=False, using mean to aggregate them.\n",
      "  YellowbrickWarning,\n"
     ]
    },
    {
     "data": {
      "image/png": "[encoded data removed]",
      "text/plain": [
       "<Figure size 432x288 with 1 Axes>"
      ]
     },
     "metadata": {},
     "output_type": "display_data"
    },
    {
     "name": "stdout",
     "output_type": "stream",
     "text": [
      "[[-0.45302602  0.23940122  0.21665145  0.19355631 -0.4391723  -0.60333407\n",
      "  -0.42575137]]\n",
      "0.8179818545724242\n",
      "0.8177754297557606\n"
     ]
    }
   ],
   "source": [
    "XF = df[['tenure', 'minority', 'Q8', 'Q39', 'Q40', 'Q69', 'Q67']]\n",
    "\n",
    "X_train, X_test, y_train, y_test = train_test_split(XF, y, train_size=0.8, test_size=0.2, random_state=42)\n",
    "\n",
    "mlr = LogisticRegression(penalty='elasticnet', l1_ratio=.5, multi_class=\"auto\", solver=\"saga\", random_state=42)\n",
    "mlr.fit(X_train, y_train) \n",
    "y_predict = mlr.predict(X_test)\n",
    "viz = FeatureImportances(mlr)\n",
    "viz.fit(X_train, y_train)\n",
    "viz.show()\n",
    "print(mlr.coef_)\n",
    "print(mlr.score(X_train, y_train))\n",
    "print(mlr.score(X_test, y_test))"
   ]
  },
  {
   "cell_type": "code",
   "execution_count": 68,
   "metadata": {},
   "outputs": [
    {
     "data": {
      "text/plain": [
       "(246068, 11)"
      ]
     },
     "execution_count": 68,
     "metadata": {},
     "output_type": "execute_result"
    }
   ],
   "source": [
    "XZ.shape"
   ]
  },
  {
   "cell_type": "code",
   "execution_count": 69,
   "metadata": {},
   "outputs": [
    {
     "data": {
      "text/plain": [
       "array([[-1.36409002,  0.23576956, -0.71720692, ...,  0.21139981,\n",
       "         0.06566454,  0.54315174],\n",
       "       [-0.11290129, -1.03632938,  1.39429776, ...,  0.21139981,\n",
       "         0.06566454,  0.54315174],\n",
       "       [-0.11290129,  1.50786851,  1.39429776, ...,  0.21139981,\n",
       "        -0.93451761,  0.54315174],\n",
       "       ...,\n",
       "       [-0.11290129,  0.23576956, -0.71720692, ...,  0.21139981,\n",
       "         0.06566454,  0.54315174],\n",
       "       [-0.11290129, -1.03632938,  1.39429776, ...,  0.21139981,\n",
       "         0.06566454,  0.54315174],\n",
       "       [ 1.13828744,  0.23576956,  1.39429776, ...,  0.21139981,\n",
       "        -0.93451761, -0.277143  ]])"
      ]
     },
     "execution_count": 69,
     "metadata": {},
     "output_type": "execute_result"
    }
   ],
   "source": [
    "scaler.fit(XZ)\n",
    "XY = scaler.transform(XZ)\n",
    "XY"
   ]
  },
  {
   "cell_type": "code",
   "execution_count": 70,
   "metadata": {},
   "outputs": [
    {
     "name": "stderr",
     "output_type": "stream",
     "text": [
      "C:\\Users\\Jungd\\Anaconda3\\lib\\site-packages\\sklearn\\base.py:197: FutureWarning: From version 0.24, get_params will raise an AttributeError if a parameter cannot be retrieved as an instance attribute. Previously it would return None.\n",
      "  FutureWarning)\n",
      "C:\\Users\\Jungd\\Anaconda3\\lib\\site-packages\\yellowbrick\\model_selection\\importances.py:195: YellowbrickWarning: detected multi-dimensional feature importances but stack=False, using mean to aggregate them.\n",
      "  YellowbrickWarning,\n"
     ]
    },
    {
     "data": {
      "image/png": "[encoded data removed]",
      "text/plain": [
       "<Figure size 432x288 with 1 Axes>"
      ]
     },
     "metadata": {},
     "output_type": "display_data"
    },
    {
     "name": "stdout",
     "output_type": "stream",
     "text": [
      "[[ 0.13073621 -0.343637    0.11694208  0.14863584 -0.13970551  0.1863684\n",
      "  -0.39996245  0.1692887  -0.24322708 -0.49217699 -0.49696535]]\n",
      "0.8199172991150803\n",
      "0.8199496078351689\n"
     ]
    }
   ],
   "source": [
    "X_train, X_test, y_train, y_test = train_test_split(XY, y, train_size=0.8, test_size=0.2, random_state=42)\n",
    "\n",
    "mlr = LogisticRegression(penalty='elasticnet', l1_ratio=.5, multi_class=\"auto\", solver=\"saga\", random_state=42)\n",
    "mlr.fit(X_train, y_train) \n",
    "y_predict = mlr.predict(X_test)\n",
    "viz = FeatureImportances(mlr)\n",
    "viz.fit(X_train, y_train)\n",
    "viz.show()\n",
    "print(mlr.coef_)\n",
    "print(mlr.score(X_train, y_train))\n",
    "print(mlr.score(X_test, y_test))"
   ]
  },
  {
   "cell_type": "code",
   "execution_count": null,
   "metadata": {},
   "outputs": [],
   "source": []
  },
  {
   "cell_type": "code",
   "execution_count": null,
   "metadata": {},
   "outputs": [],
   "source": []
  },
  {
   "cell_type": "code",
   "execution_count": null,
   "metadata": {},
   "outputs": [],
   "source": []
  },
  {
   "cell_type": "code",
   "execution_count": null,
   "metadata": {},
   "outputs": [],
   "source": []
  },
  {
   "cell_type": "code",
   "execution_count": null,
   "metadata": {},
   "outputs": [],
   "source": []
  },
  {
   "cell_type": "code",
   "execution_count": 53,
   "metadata": {},
   "outputs": [
    {
     "ename": "TypeError",
     "evalue": "__init__() got an unexpected keyword argument 'scoring'",
     "output_type": "error",
     "traceback": [
      "\u001b[1;31m---------------------------------------------------------------------------\u001b[0m",
      "\u001b[1;31mTypeError\u001b[0m                                 Traceback (most recent call last)",
      "\u001b[1;32m<ipython-input-53-74ac52a8aa51>\u001b[0m in \u001b[0;36m<module>\u001b[1;34m\u001b[0m\n\u001b[0;32m      1\u001b[0m \u001b[1;32mfrom\u001b[0m \u001b[0myellowbrick\u001b[0m\u001b[1;33m.\u001b[0m\u001b[0mmodel_selection\u001b[0m \u001b[1;32mimport\u001b[0m \u001b[0mRFECV\u001b[0m\u001b[1;33m\u001b[0m\u001b[1;33m\u001b[0m\u001b[0m\n\u001b[0;32m      2\u001b[0m \u001b[1;33m\u001b[0m\u001b[0m\n\u001b[1;32m----> 3\u001b[1;33m \u001b[0mvisualizer\u001b[0m \u001b[1;33m=\u001b[0m \u001b[0mRFECV\u001b[0m\u001b[1;33m(\u001b[0m\u001b[0mLogisticRegression\u001b[0m\u001b[1;33m(\u001b[0m\u001b[0mpenalty\u001b[0m\u001b[1;33m=\u001b[0m\u001b[1;34m'elasticnet'\u001b[0m\u001b[1;33m,\u001b[0m \u001b[0ml1_ratio\u001b[0m\u001b[1;33m=\u001b[0m\u001b[1;36m.5\u001b[0m\u001b[1;33m,\u001b[0m \u001b[0mmulti_class\u001b[0m\u001b[1;33m=\u001b[0m\u001b[1;34m\"auto\"\u001b[0m\u001b[1;33m,\u001b[0m\u001b[0mscoring\u001b[0m\u001b[1;33m=\u001b[0m\u001b[1;34m\"f1_weighted\"\u001b[0m\u001b[1;33m,\u001b[0m \u001b[0msolver\u001b[0m\u001b[1;33m=\u001b[0m\u001b[1;34m\"saga\"\u001b[0m\u001b[1;33m,\u001b[0m \u001b[0mrandom_state\u001b[0m\u001b[1;33m=\u001b[0m\u001b[1;36m42\u001b[0m\u001b[1;33m)\u001b[0m\u001b[1;33m)\u001b[0m\u001b[1;33m\u001b[0m\u001b[1;33m\u001b[0m\u001b[0m\n\u001b[0m\u001b[0;32m      4\u001b[0m \u001b[0mvisualizer\u001b[0m\u001b[1;33m.\u001b[0m\u001b[0mfit\u001b[0m\u001b[1;33m(\u001b[0m\u001b[0mX_test\u001b[0m\u001b[1;33m,\u001b[0m \u001b[0my_test\u001b[0m\u001b[1;33m)\u001b[0m        \u001b[1;31m# Fit the data to the visualizer\u001b[0m\u001b[1;33m\u001b[0m\u001b[1;33m\u001b[0m\u001b[0m\n\u001b[0;32m      5\u001b[0m \u001b[0mvisualizer\u001b[0m\u001b[1;33m.\u001b[0m\u001b[0mshow\u001b[0m\u001b[1;33m(\u001b[0m\u001b[1;33m)\u001b[0m\u001b[1;33m\u001b[0m\u001b[1;33m\u001b[0m\u001b[0m\n",
      "\u001b[1;31mTypeError\u001b[0m: __init__() got an unexpected keyword argument 'scoring'"
     ]
    }
   ],
   "source": [
    "from yellowbrick.model_selection import RFECV\n",
    "\n",
    "visualizer = RFECV(LogisticRegression(penalty='elasticnet', l1_ratio=.5, multi_class=\"auto\", solver=\"saga\", random_state=42))\n",
    "visualizer.fit(X_test, y_test)        # Fit the data to the visualizer\n",
    "visualizer.show()  "
   ]
  },
  {
   "cell_type": "code",
   "execution_count": null,
   "metadata": {},
   "outputs": [],
   "source": []
  }
 ],
 "metadata": {
  "kernelspec": {
   "display_name": "Python 3",
   "language": "python",
   "name": "python3"
  },
  "language_info": {
   "codemirror_mode": {
    "name": "ipython",
    "version": 3
   },
   "file_extension": ".py",
   "mimetype": "text/x-python",
   "name": "python",
   "nbconvert_exporter": "python",
   "pygments_lexer": "ipython3",
   "version": "3.7.3"
  }
 },
 "nbformat": 4,
 "nbformat_minor": 4
}
