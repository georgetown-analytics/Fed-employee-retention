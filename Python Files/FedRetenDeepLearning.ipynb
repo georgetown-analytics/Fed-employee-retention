{
 "cells": [
  {
   "cell_type": "code",
   "execution_count": 45,
   "metadata": {},
   "outputs": [],
   "source": [
    "import pandas as pd\n",
    "import numpy as np\n",
    "import tensorflow as tf\n",
    "import matplotlib.pyplot as plt\n",
    "%matplotlib inline\n",
    "\n",
    "import seaborn as sns\n",
    "sns.set(style=\"darkgrid\")"
   ]
  },
  {
   "cell_type": "code",
   "execution_count": 46,
   "metadata": {},
   "outputs": [],
   "source": [
    "from tensorflow.keras.layers import Input, Dense, Activation,Dropout\n",
    "from tensorflow.keras.models import Model"
   ]
  },
  {
   "cell_type": "code",
   "execution_count": 47,
   "metadata": {},
   "outputs": [],
   "source": [
    "df = pd.read_csv(\"C:/Users/Adam PC/Desktop/Adam Work File/Data Science/Agency_Full_Clean_2.csv\")\n",
    "pd.set_option('display.float_format', lambda x: '%.2f' % x)"
   ]
  },
  {
   "cell_type": "code",
   "execution_count": 48,
   "metadata": {},
   "outputs": [],
   "source": [
    "df[\"engagement\"] = (df[\"40\"] + df[\"69\"] + df[\"71\"])/3"
   ]
  },
  {
   "cell_type": "code",
   "execution_count": 49,
   "metadata": {},
   "outputs": [],
   "source": [
    "X = df[['average_salary', 'percent_advance_degrees', 'percent_female', 'engagement']]\n",
    "y = df.attrition_rate"
   ]
  },
  {
   "cell_type": "code",
   "execution_count": 50,
   "metadata": {},
   "outputs": [],
   "source": [
    "y = np.asarray(y)"
   ]
  },
  {
   "cell_type": "code",
   "execution_count": 51,
   "metadata": {},
   "outputs": [
    {
     "data": {
      "text/html": [
       "<div>\n",
       "<style scoped>\n",
       "    .dataframe tbody tr th:only-of-type {\n",
       "        vertical-align: middle;\n",
       "    }\n",
       "\n",
       "    .dataframe tbody tr th {\n",
       "        vertical-align: top;\n",
       "    }\n",
       "\n",
       "    .dataframe thead th {\n",
       "        text-align: right;\n",
       "    }\n",
       "</style>\n",
       "<table border=\"1\" class=\"dataframe\">\n",
       "  <thead>\n",
       "    <tr style=\"text-align: right;\">\n",
       "      <th></th>\n",
       "      <th>average_salary</th>\n",
       "      <th>percent_advance_degrees</th>\n",
       "      <th>percent_female</th>\n",
       "      <th>engagement</th>\n",
       "    </tr>\n",
       "  </thead>\n",
       "  <tbody>\n",
       "    <tr>\n",
       "      <th>count</th>\n",
       "      <td>938.00</td>\n",
       "      <td>938.00</td>\n",
       "      <td>938.00</td>\n",
       "      <td>938.00</td>\n",
       "    </tr>\n",
       "    <tr>\n",
       "      <th>mean</th>\n",
       "      <td>95455.81</td>\n",
       "      <td>21.67</td>\n",
       "      <td>43.79</td>\n",
       "      <td>61.73</td>\n",
       "    </tr>\n",
       "    <tr>\n",
       "      <th>std</th>\n",
       "      <td>19072.88</td>\n",
       "      <td>10.27</td>\n",
       "      <td>15.38</td>\n",
       "      <td>9.09</td>\n",
       "    </tr>\n",
       "    <tr>\n",
       "      <th>min</th>\n",
       "      <td>41135.00</td>\n",
       "      <td>0.00</td>\n",
       "      <td>13.00</td>\n",
       "      <td>25.61</td>\n",
       "    </tr>\n",
       "    <tr>\n",
       "      <th>25%</th>\n",
       "      <td>79190.75</td>\n",
       "      <td>14.00</td>\n",
       "      <td>32.00</td>\n",
       "      <td>56.05</td>\n",
       "    </tr>\n",
       "    <tr>\n",
       "      <th>50%</th>\n",
       "      <td>98125.50</td>\n",
       "      <td>21.00</td>\n",
       "      <td>41.00</td>\n",
       "      <td>61.44</td>\n",
       "    </tr>\n",
       "    <tr>\n",
       "      <th>75%</th>\n",
       "      <td>109386.75</td>\n",
       "      <td>28.00</td>\n",
       "      <td>57.75</td>\n",
       "      <td>67.53</td>\n",
       "    </tr>\n",
       "    <tr>\n",
       "      <th>max</th>\n",
       "      <td>159253.00</td>\n",
       "      <td>60.00</td>\n",
       "      <td>77.00</td>\n",
       "      <td>86.55</td>\n",
       "    </tr>\n",
       "  </tbody>\n",
       "</table>\n",
       "</div>"
      ],
      "text/plain": [
       "       average_salary  percent_advance_degrees  percent_female  engagement\n",
       "count          938.00                   938.00          938.00      938.00\n",
       "mean         95455.81                    21.67           43.79       61.73\n",
       "std          19072.88                    10.27           15.38        9.09\n",
       "min          41135.00                     0.00           13.00       25.61\n",
       "25%          79190.75                    14.00           32.00       56.05\n",
       "50%          98125.50                    21.00           41.00       61.44\n",
       "75%         109386.75                    28.00           57.75       67.53\n",
       "max         159253.00                    60.00           77.00       86.55"
      ]
     },
     "execution_count": 51,
     "metadata": {},
     "output_type": "execute_result"
    }
   ],
   "source": [
    "X.describe()"
   ]
  },
  {
   "cell_type": "code",
   "execution_count": 52,
   "metadata": {},
   "outputs": [],
   "source": [
    "from sklearn.model_selection import train_test_split\n",
    "from sklearn.preprocessing import StandardScaler\n",
    "\n",
    "X_train, X_test, y_train, y_test = train_test_split(X, y, test_size=0.25, random_state=42)\n",
    "sc = StandardScaler()\n",
    "X_train = sc.fit_transform(X_train)\n",
    "X_test = sc.transform(X_test)"
   ]
  },
  {
   "cell_type": "code",
   "execution_count": 53,
   "metadata": {},
   "outputs": [],
   "source": [
    "input_layer = Input(shape=(X.shape[1],))\n",
    "dense_layer_1 = Dense(30, activation='relu')(input_layer)\n",
    "dense_layer_2 = Dense(20, activation='relu')(dense_layer_1)\n",
    "dense_layer_3 = Dense(10, activation='relu')(dense_layer_2)\n",
    "output = Dense(1)(dense_layer_3)\n",
    "\n",
    "model = Model(inputs=input_layer, outputs=output)\n",
    "model.compile(loss=\"mean_squared_error\" , optimizer=\"adam\", metrics=[\"mean_squared_error\"])"
   ]
  },
  {
   "cell_type": "code",
   "execution_count": 54,
   "metadata": {},
   "outputs": [
    {
     "name": "stdout",
     "output_type": "stream",
     "text": [
      "Model: \"model_4\"\n",
      "_________________________________________________________________\n",
      "Layer (type)                 Output Shape              Param #   \n",
      "=================================================================\n",
      "input_5 (InputLayer)         [(None, 4)]               0         \n",
      "_________________________________________________________________\n",
      "dense_16 (Dense)             (None, 30)                150       \n",
      "_________________________________________________________________\n",
      "dense_17 (Dense)             (None, 20)                620       \n",
      "_________________________________________________________________\n",
      "dense_18 (Dense)             (None, 10)                210       \n",
      "_________________________________________________________________\n",
      "dense_19 (Dense)             (None, 1)                 11        \n",
      "=================================================================\n",
      "Total params: 991\n",
      "Trainable params: 991\n",
      "Non-trainable params: 0\n",
      "_________________________________________________________________\n",
      "None\n"
     ]
    }
   ],
   "source": [
    "print(model.summary())"
   ]
  },
  {
   "cell_type": "code",
   "execution_count": 55,
   "metadata": {},
   "outputs": [
    {
     "data": {
      "text/plain": [
       "(703, 4)"
      ]
     },
     "execution_count": 55,
     "metadata": {},
     "output_type": "execute_result"
    }
   ],
   "source": [
    "X_train.shape"
   ]
  },
  {
   "cell_type": "code",
   "execution_count": 56,
   "metadata": {},
   "outputs": [
    {
     "name": "stdout",
     "output_type": "stream",
     "text": [
      "Train on 703 samples, validate on 235 samples\n",
      "Epoch 1/100\n",
      "703/703 [==============================] - 2s 3ms/sample - loss: 8.8995 - mean_squared_error: 8.8995 - val_loss: 5.1423 - val_mean_squared_error: 5.1423\n",
      "Epoch 2/100\n",
      "703/703 [==============================] - 1s 1ms/sample - loss: 5.3709 - mean_squared_error: 5.3709 - val_loss: 5.0391 - val_mean_squared_error: 5.0391\n",
      "Epoch 3/100\n",
      "703/703 [==============================] - 1s 1ms/sample - loss: 4.9724 - mean_squared_error: 4.9724 - val_loss: 4.7167 - val_mean_squared_error: 4.7167\n",
      "Epoch 4/100\n",
      "703/703 [==============================] - 1s 1ms/sample - loss: 4.7480 - mean_squared_error: 4.7480 - val_loss: 4.4496 - val_mean_squared_error: 4.4496\n",
      "Epoch 5/100\n",
      "703/703 [==============================] - 1s 1ms/sample - loss: 4.6005 - mean_squared_error: 4.6005 - val_loss: 4.6009 - val_mean_squared_error: 4.6009\n",
      "Epoch 6/100\n",
      "703/703 [==============================] - 1s 1ms/sample - loss: 4.4535 - mean_squared_error: 4.4535 - val_loss: 4.2614 - val_mean_squared_error: 4.2614\n",
      "Epoch 7/100\n",
      "703/703 [==============================] - 1s 1ms/sample - loss: 4.4105 - mean_squared_error: 4.4105 - val_loss: 4.2317 - val_mean_squared_error: 4.2317\n",
      "Epoch 8/100\n",
      "703/703 [==============================] - 1s 1ms/sample - loss: 4.3388 - mean_squared_error: 4.3388 - val_loss: 4.2684 - val_mean_squared_error: 4.2684\n",
      "Epoch 9/100\n",
      "703/703 [==============================] - 1s 1ms/sample - loss: 4.2642 - mean_squared_error: 4.2642 - val_loss: 4.2646 - val_mean_squared_error: 4.2646\n",
      "Epoch 10/100\n",
      "703/703 [==============================] - 1s 1ms/sample - loss: 4.2157 - mean_squared_error: 4.2157 - val_loss: 4.3029 - val_mean_squared_error: 4.3029\n",
      "Epoch 11/100\n",
      "703/703 [==============================] - 1s 1ms/sample - loss: 4.2274 - mean_squared_error: 4.2274 - val_loss: 4.2883 - val_mean_squared_error: 4.2883\n",
      "Epoch 12/100\n",
      "703/703 [==============================] - 1s 2ms/sample - loss: 4.1113 - mean_squared_error: 4.1113 - val_loss: 4.7535 - val_mean_squared_error: 4.7535\n",
      "Epoch 13/100\n",
      "703/703 [==============================] - 1s 1ms/sample - loss: 4.0778 - mean_squared_error: 4.0778 - val_loss: 4.3350 - val_mean_squared_error: 4.3350\n",
      "Epoch 14/100\n",
      "703/703 [==============================] - 1s 1ms/sample - loss: 4.1098 - mean_squared_error: 4.1098 - val_loss: 4.0804 - val_mean_squared_error: 4.0804\n",
      "Epoch 15/100\n",
      "703/703 [==============================] - 1s 2ms/sample - loss: 4.0656 - mean_squared_error: 4.0656 - val_loss: 4.1519 - val_mean_squared_error: 4.1519\n",
      "Epoch 16/100\n",
      "703/703 [==============================] - 1s 1ms/sample - loss: 4.0265 - mean_squared_error: 4.0265 - val_loss: 4.0652 - val_mean_squared_error: 4.0652\n",
      "Epoch 17/100\n",
      "703/703 [==============================] - 1s 1ms/sample - loss: 4.0027 - mean_squared_error: 4.0027 - val_loss: 4.0733 - val_mean_squared_error: 4.0733\n",
      "Epoch 18/100\n",
      "703/703 [==============================] - 1s 1ms/sample - loss: 3.9732 - mean_squared_error: 3.9732 - val_loss: 4.5174 - val_mean_squared_error: 4.5174\n",
      "Epoch 19/100\n",
      "703/703 [==============================] - 1s 1ms/sample - loss: 3.9083 - mean_squared_error: 3.9083 - val_loss: 4.1715 - val_mean_squared_error: 4.1715\n",
      "Epoch 20/100\n",
      "703/703 [==============================] - 1s 1ms/sample - loss: 3.9220 - mean_squared_error: 3.9220 - val_loss: 3.9832 - val_mean_squared_error: 3.9832\n",
      "Epoch 21/100\n",
      "703/703 [==============================] - 1s 1ms/sample - loss: 3.9539 - mean_squared_error: 3.9539 - val_loss: 3.9391 - val_mean_squared_error: 3.9391\n",
      "Epoch 22/100\n",
      "703/703 [==============================] - 1s 1ms/sample - loss: 3.8895 - mean_squared_error: 3.8895 - val_loss: 4.0315 - val_mean_squared_error: 4.0315\n",
      "Epoch 23/100\n",
      "703/703 [==============================] - 1s 1ms/sample - loss: 3.8447 - mean_squared_error: 3.8447 - val_loss: 4.0807 - val_mean_squared_error: 4.0807\n",
      "Epoch 24/100\n",
      "703/703 [==============================] - 1s 1ms/sample - loss: 3.8337 - mean_squared_error: 3.8337 - val_loss: 4.0795 - val_mean_squared_error: 4.0795\n",
      "Epoch 25/100\n",
      "703/703 [==============================] - 1s 1ms/sample - loss: 3.7178 - mean_squared_error: 3.7178 - val_loss: 4.2072 - val_mean_squared_error: 4.2072\n",
      "Epoch 26/100\n",
      "703/703 [==============================] - 1s 1ms/sample - loss: 3.7437 - mean_squared_error: 3.7437 - val_loss: 4.1784 - val_mean_squared_error: 4.1784\n",
      "Epoch 27/100\n",
      "703/703 [==============================] - 1s 1ms/sample - loss: 3.7515 - mean_squared_error: 3.7515 - val_loss: 3.8486 - val_mean_squared_error: 3.8486\n",
      "Epoch 28/100\n",
      "703/703 [==============================] - 1s 1ms/sample - loss: 3.6850 - mean_squared_error: 3.6850 - val_loss: 3.9557 - val_mean_squared_error: 3.9557\n",
      "Epoch 29/100\n",
      "703/703 [==============================] - 1s 1ms/sample - loss: 3.7131 - mean_squared_error: 3.7131 - val_loss: 3.9325 - val_mean_squared_error: 3.9325\n",
      "Epoch 30/100\n",
      "703/703 [==============================] - 1s 1ms/sample - loss: 3.6570 - mean_squared_error: 3.6570 - val_loss: 3.8859 - val_mean_squared_error: 3.8859\n",
      "Epoch 31/100\n",
      "703/703 [==============================] - 1s 1ms/sample - loss: 3.5697 - mean_squared_error: 3.5697 - val_loss: 3.9442 - val_mean_squared_error: 3.9442\n",
      "Epoch 32/100\n",
      "703/703 [==============================] - 1s 1ms/sample - loss: 3.5849 - mean_squared_error: 3.5849 - val_loss: 4.1557 - val_mean_squared_error: 4.1557\n",
      "Epoch 33/100\n",
      "703/703 [==============================] - 1s 1ms/sample - loss: 3.5791 - mean_squared_error: 3.5791 - val_loss: 3.7693 - val_mean_squared_error: 3.7693\n",
      "Epoch 34/100\n",
      "703/703 [==============================] - 1s 1ms/sample - loss: 3.5933 - mean_squared_error: 3.5933 - val_loss: 3.7303 - val_mean_squared_error: 3.7303\n",
      "Epoch 35/100\n",
      "703/703 [==============================] - 1s 1ms/sample - loss: 3.4780 - mean_squared_error: 3.4780 - val_loss: 3.9029 - val_mean_squared_error: 3.9029\n",
      "Epoch 36/100\n",
      "703/703 [==============================] - 1s 2ms/sample - loss: 3.4395 - mean_squared_error: 3.4395 - val_loss: 3.8986 - val_mean_squared_error: 3.8986\n",
      "Epoch 37/100\n",
      "703/703 [==============================] - 1s 1ms/sample - loss: 3.4016 - mean_squared_error: 3.4016 - val_loss: 4.5096 - val_mean_squared_error: 4.5096\n",
      "Epoch 38/100\n",
      "703/703 [==============================] - 1s 1ms/sample - loss: 3.4856 - mean_squared_error: 3.4856 - val_loss: 3.6604 - val_mean_squared_error: 3.6604\n",
      "Epoch 39/100\n",
      "703/703 [==============================] - 1s 1ms/sample - loss: 3.4243 - mean_squared_error: 3.4243 - val_loss: 3.9144 - val_mean_squared_error: 3.9144\n",
      "Epoch 40/100\n",
      "703/703 [==============================] - 1s 1ms/sample - loss: 3.4227 - mean_squared_error: 3.4227 - val_loss: 3.8925 - val_mean_squared_error: 3.8925\n",
      "Epoch 41/100\n",
      "703/703 [==============================] - 1s 1ms/sample - loss: 3.3181 - mean_squared_error: 3.3181 - val_loss: 3.8192 - val_mean_squared_error: 3.8192\n",
      "Epoch 42/100\n",
      "703/703 [==============================] - 1s 2ms/sample - loss: 3.4118 - mean_squared_error: 3.4118 - val_loss: 3.7486 - val_mean_squared_error: 3.7486\n",
      "Epoch 43/100\n",
      "703/703 [==============================] - 1s 1ms/sample - loss: 3.3092 - mean_squared_error: 3.3092 - val_loss: 3.6153 - val_mean_squared_error: 3.6153\n",
      "Epoch 44/100\n",
      "703/703 [==============================] - 1s 1ms/sample - loss: 3.2669 - mean_squared_error: 3.2669 - val_loss: 3.8362 - val_mean_squared_error: 3.8362\n",
      "Epoch 45/100\n",
      "703/703 [==============================] - 1s 1ms/sample - loss: 3.2534 - mean_squared_error: 3.2534 - val_loss: 4.0588 - val_mean_squared_error: 4.0588\n",
      "Epoch 46/100\n",
      "703/703 [==============================] - 1s 1ms/sample - loss: 3.2836 - mean_squared_error: 3.2836 - val_loss: 3.7593 - val_mean_squared_error: 3.7593\n",
      "Epoch 47/100\n",
      "703/703 [==============================] - 1s 1ms/sample - loss: 3.2441 - mean_squared_error: 3.2441 - val_loss: 3.7990 - val_mean_squared_error: 3.7990\n",
      "Epoch 48/100\n",
      "703/703 [==============================] - 1s 1ms/sample - loss: 3.2050 - mean_squared_error: 3.2050 - val_loss: 3.7575 - val_mean_squared_error: 3.7575\n",
      "Epoch 49/100\n",
      "703/703 [==============================] - 1s 1ms/sample - loss: 3.1916 - mean_squared_error: 3.1916 - val_loss: 3.7006 - val_mean_squared_error: 3.7006\n",
      "Epoch 50/100\n",
      "703/703 [==============================] - 1s 1ms/sample - loss: 3.1761 - mean_squared_error: 3.1761 - val_loss: 3.8278 - val_mean_squared_error: 3.8278\n",
      "Epoch 51/100\n",
      "703/703 [==============================] - 1s 1ms/sample - loss: 3.1904 - mean_squared_error: 3.1904 - val_loss: 3.9659 - val_mean_squared_error: 3.9659\n",
      "Epoch 52/100\n",
      "703/703 [==============================] - 1s 1ms/sample - loss: 3.1645 - mean_squared_error: 3.1645 - val_loss: 3.7847 - val_mean_squared_error: 3.7847\n",
      "Epoch 53/100\n",
      "703/703 [==============================] - 1s 1ms/sample - loss: 3.0714 - mean_squared_error: 3.0714 - val_loss: 3.7199 - val_mean_squared_error: 3.7199\n",
      "Epoch 54/100\n",
      "703/703 [==============================] - 1s 1ms/sample - loss: 3.0897 - mean_squared_error: 3.0897 - val_loss: 3.7123 - val_mean_squared_error: 3.7123\n",
      "Epoch 55/100\n",
      "703/703 [==============================] - 1s 1ms/sample - loss: 3.1304 - mean_squared_error: 3.1304 - val_loss: 3.8832 - val_mean_squared_error: 3.8832\n",
      "Epoch 56/100\n",
      "703/703 [==============================] - 1s 1ms/sample - loss: 3.0597 - mean_squared_error: 3.0597 - val_loss: 3.8461 - val_mean_squared_error: 3.8461\n",
      "Epoch 57/100\n",
      "703/703 [==============================] - 1s 1ms/sample - loss: 2.9828 - mean_squared_error: 2.9828 - val_loss: 4.3072 - val_mean_squared_error: 4.3072\n",
      "Epoch 58/100\n",
      "703/703 [==============================] - 1s 1ms/sample - loss: 3.1215 - mean_squared_error: 3.1215 - val_loss: 3.5709 - val_mean_squared_error: 3.5709\n",
      "Epoch 59/100\n",
      "703/703 [==============================] - 1s 1ms/sample - loss: 3.0319 - mean_squared_error: 3.0319 - val_loss: 4.3294 - val_mean_squared_error: 4.3294\n",
      "Epoch 60/100\n",
      "703/703 [==============================] - 1s 1ms/sample - loss: 3.0732 - mean_squared_error: 3.0732 - val_loss: 3.6679 - val_mean_squared_error: 3.6679\n",
      "Epoch 61/100\n",
      "703/703 [==============================] - 1s 1ms/sample - loss: 2.9993 - mean_squared_error: 2.9993 - val_loss: 3.7850 - val_mean_squared_error: 3.7850\n",
      "Epoch 62/100\n",
      "703/703 [==============================] - 1s 1ms/sample - loss: 2.9557 - mean_squared_error: 2.9557 - val_loss: 3.7185 - val_mean_squared_error: 3.7185\n",
      "Epoch 63/100\n",
      "703/703 [==============================] - 1s 1ms/sample - loss: 2.9618 - mean_squared_error: 2.9618 - val_loss: 3.7999 - val_mean_squared_error: 3.7999\n",
      "Epoch 64/100\n",
      "703/703 [==============================] - 1s 1ms/sample - loss: 3.0433 - mean_squared_error: 3.0433 - val_loss: 3.8754 - val_mean_squared_error: 3.8754\n",
      "Epoch 65/100\n",
      "703/703 [==============================] - 1s 1ms/sample - loss: 2.9148 - mean_squared_error: 2.9148 - val_loss: 3.9422 - val_mean_squared_error: 3.9422\n",
      "Epoch 66/100\n",
      "703/703 [==============================] - 1s 1ms/sample - loss: 2.9458 - mean_squared_error: 2.9458 - val_loss: 3.5949 - val_mean_squared_error: 3.5949\n",
      "Epoch 67/100\n",
      "703/703 [==============================] - 1s 1ms/sample - loss: 2.9715 - mean_squared_error: 2.9715 - val_loss: 3.9552 - val_mean_squared_error: 3.9552\n",
      "Epoch 68/100\n",
      "703/703 [==============================] - 1s 1ms/sample - loss: 2.9988 - mean_squared_error: 2.9988 - val_loss: 3.9547 - val_mean_squared_error: 3.9547\n",
      "Epoch 69/100\n",
      "703/703 [==============================] - 1s 1ms/sample - loss: 2.8073 - mean_squared_error: 2.8073 - val_loss: 3.9172 - val_mean_squared_error: 3.9172\n",
      "Epoch 70/100\n",
      "703/703 [==============================] - 1s 1ms/sample - loss: 2.8902 - mean_squared_error: 2.8902 - val_loss: 4.0333 - val_mean_squared_error: 4.0333\n",
      "Epoch 71/100\n",
      "703/703 [==============================] - 1s 1ms/sample - loss: 2.8572 - mean_squared_error: 2.8572 - val_loss: 3.6773 - val_mean_squared_error: 3.6773\n",
      "Epoch 72/100\n",
      "703/703 [==============================] - 1s 1ms/sample - loss: 2.9036 - mean_squared_error: 2.9036 - val_loss: 3.7587 - val_mean_squared_error: 3.7587\n",
      "Epoch 73/100\n",
      "703/703 [==============================] - 1s 1ms/sample - loss: 2.8286 - mean_squared_error: 2.8286 - val_loss: 3.8841 - val_mean_squared_error: 3.8841\n",
      "Epoch 74/100\n",
      "703/703 [==============================] - 1s 1ms/sample - loss: 2.7436 - mean_squared_error: 2.7436 - val_loss: 3.9498 - val_mean_squared_error: 3.9498\n",
      "Epoch 75/100\n",
      "703/703 [==============================] - 1s 1ms/sample - loss: 2.8686 - mean_squared_error: 2.8686 - val_loss: 3.8508 - val_mean_squared_error: 3.8508\n",
      "Epoch 76/100\n",
      "703/703 [==============================] - 1s 1ms/sample - loss: 2.8656 - mean_squared_error: 2.8656 - val_loss: 3.5079 - val_mean_squared_error: 3.5079\n",
      "Epoch 77/100\n",
      "703/703 [==============================] - 1s 1ms/sample - loss: 2.8260 - mean_squared_error: 2.8260 - val_loss: 3.5288 - val_mean_squared_error: 3.5288\n",
      "Epoch 78/100\n",
      "703/703 [==============================] - 1s 2ms/sample - loss: 2.6716 - mean_squared_error: 2.6716 - val_loss: 3.5575 - val_mean_squared_error: 3.5575\n",
      "Epoch 79/100\n",
      "703/703 [==============================] - 1s 1ms/sample - loss: 2.7373 - mean_squared_error: 2.7373 - val_loss: 3.6156 - val_mean_squared_error: 3.6156\n",
      "Epoch 80/100\n",
      "703/703 [==============================] - 1s 1ms/sample - loss: 2.7605 - mean_squared_error: 2.7605 - val_loss: 3.6788 - val_mean_squared_error: 3.6788\n",
      "Epoch 81/100\n",
      "703/703 [==============================] - 1s 1ms/sample - loss: 2.7614 - mean_squared_error: 2.7614 - val_loss: 3.8275 - val_mean_squared_error: 3.8275\n",
      "Epoch 82/100\n",
      "703/703 [==============================] - 1s 2ms/sample - loss: 2.7362 - mean_squared_error: 2.7362 - val_loss: 3.5743 - val_mean_squared_error: 3.5743\n",
      "Epoch 83/100\n",
      "703/703 [==============================] - 1s 1ms/sample - loss: 2.6643 - mean_squared_error: 2.6643 - val_loss: 3.9196 - val_mean_squared_error: 3.9196\n",
      "Epoch 84/100\n",
      "703/703 [==============================] - 1s 1ms/sample - loss: 2.7080 - mean_squared_error: 2.7080 - val_loss: 3.8986 - val_mean_squared_error: 3.8986\n",
      "Epoch 85/100\n",
      "703/703 [==============================] - 1s 1ms/sample - loss: 2.6766 - mean_squared_error: 2.6766 - val_loss: 4.1011 - val_mean_squared_error: 4.1011\n",
      "Epoch 86/100\n",
      "703/703 [==============================] - 1s 1ms/sample - loss: 2.6622 - mean_squared_error: 2.6622 - val_loss: 3.6565 - val_mean_squared_error: 3.6565\n",
      "Epoch 87/100\n",
      "703/703 [==============================] - 1s 1ms/sample - loss: 2.6694 - mean_squared_error: 2.6694 - val_loss: 3.9686 - val_mean_squared_error: 3.9686\n",
      "Epoch 88/100\n",
      "703/703 [==============================] - 1s 1ms/sample - loss: 2.6590 - mean_squared_error: 2.6590 - val_loss: 3.8403 - val_mean_squared_error: 3.8403\n",
      "Epoch 89/100\n",
      "703/703 [==============================] - 1s 1ms/sample - loss: 2.7041 - mean_squared_error: 2.7041 - val_loss: 3.5668 - val_mean_squared_error: 3.5668\n",
      "Epoch 90/100\n",
      "703/703 [==============================] - 1s 1ms/sample - loss: 2.6808 - mean_squared_error: 2.6808 - val_loss: 3.5219 - val_mean_squared_error: 3.5219\n",
      "Epoch 91/100\n",
      "703/703 [==============================] - 1s 1ms/sample - loss: 2.7057 - mean_squared_error: 2.7057 - val_loss: 3.9428 - val_mean_squared_error: 3.9428\n",
      "Epoch 92/100\n",
      "703/703 [==============================] - 1s 1ms/sample - loss: 2.6445 - mean_squared_error: 2.6445 - val_loss: 3.8654 - val_mean_squared_error: 3.8654\n",
      "Epoch 93/100\n",
      "703/703 [==============================] - 1s 1ms/sample - loss: 2.6863 - mean_squared_error: 2.6863 - val_loss: 3.7055 - val_mean_squared_error: 3.7055\n",
      "Epoch 94/100\n",
      "703/703 [==============================] - 1s 1ms/sample - loss: 2.6121 - mean_squared_error: 2.6121 - val_loss: 3.7936 - val_mean_squared_error: 3.7936\n",
      "Epoch 95/100\n",
      "703/703 [==============================] - 1s 1ms/sample - loss: 2.7217 - mean_squared_error: 2.7217 - val_loss: 3.5280 - val_mean_squared_error: 3.5280\n",
      "Epoch 96/100\n",
      "703/703 [==============================] - 1s 1ms/sample - loss: 2.5829 - mean_squared_error: 2.5829 - val_loss: 3.7020 - val_mean_squared_error: 3.7020\n",
      "Epoch 97/100\n",
      "703/703 [==============================] - 1s 1ms/sample - loss: 2.4981 - mean_squared_error: 2.4981 - val_loss: 4.6167 - val_mean_squared_error: 4.6167\n",
      "Epoch 98/100\n",
      "703/703 [==============================] - 1s 1ms/sample - loss: 2.5472 - mean_squared_error: 2.5472 - val_loss: 4.3256 - val_mean_squared_error: 4.3256\n",
      "Epoch 99/100\n",
      "703/703 [==============================] - 1s 2ms/sample - loss: 2.6266 - mean_squared_error: 2.6266 - val_loss: 3.6896 - val_mean_squared_error: 3.6896\n",
      "Epoch 100/100\n",
      "703/703 [==============================] - 1s 1ms/sample - loss: 2.5914 - mean_squared_error: 2.5914 - val_loss: 3.6571 - val_mean_squared_error: 3.6571\n"
     ]
    }
   ],
   "source": [
    "history = model.fit(X_train, y_train, batch_size=1, epochs=100, verbose=1, validation_data=(X_test, y_test))"
   ]
  },
  {
   "cell_type": "code",
   "execution_count": 57,
   "metadata": {},
   "outputs": [
    {
     "name": "stdout",
     "output_type": "stream",
     "text": [
      "1.5289280334923396\n",
      "1.9123622465574135\n"
     ]
    }
   ],
   "source": [
    "from sklearn.metrics import mean_squared_error\n",
    "from math import sqrt\n",
    "\n",
    "pred_train = model.predict(X_train)\n",
    "print(np.sqrt(mean_squared_error(y_train,pred_train)))\n",
    "\n",
    "pred = model.predict(X_test)\n",
    "print(np.sqrt(mean_squared_error(y_test,pred)))"
   ]
  },
  {
   "cell_type": "code",
   "execution_count": 58,
   "metadata": {},
   "outputs": [
    {
     "name": "stdout",
     "output_type": "stream",
     "text": [
      "235/1 [==========================================================================================================================================================================================================================================================================================================================================================================================================================================================================================================================================================================================================================================================================================================================================================================================================================================================================================================================================================================================================================================================================================================================================================================================================================================================================================================================================================================================================================================================================================================================================================================================================================================================================================================================================================================================================================================================================================================================================================================================================================================================================================================================================================================================================================================================================================================================================================================================================================================================================================================================================================================================================================================================================================================================================================================================================================================================================================================================================================================================================================================================================================================================================================================================================================================================================================================================================================================================================================================================================================================================================================================================================================================================================================================================================================================================================================================================================================================================================================================================================================================================================================================================================================================================================================================================================================================================================================================================================================================================================================================================================================================================================================================================================================================================================================================================================================================================================================================================================================================================================================================================================================================================================================================================================================================================================================================================================================================================================================================================================================================================================================================================================================================================================================================================================================================================================================================================================================================================================================================================================================================================================================================================================================================================================================================================================================================================================================================================================================================================================================================================================================================================================================================================================================================================================================================================================================================================================================================================================================================================================================================================================================================================================================================================================================================================================================================================================] - 0s 345us/sample - loss: 2.8981 - mean_squared_error: 3.6571\n"
     ]
    },
    {
     "data": {
      "text/plain": [
       "[3.657129389174441, 3.657129]"
      ]
     },
     "execution_count": 58,
     "metadata": {},
     "output_type": "execute_result"
    }
   ],
   "source": [
    "model.evaluate(X_test, y_test)"
   ]
  },
  {
   "cell_type": "code",
   "execution_count": null,
   "metadata": {},
   "outputs": [],
   "source": []
  }
 ],
 "metadata": {
  "kernelspec": {
   "display_name": "Python 3",
   "language": "python",
   "name": "python3"
  },
  "language_info": {
   "codemirror_mode": {
    "name": "ipython",
    "version": 3
   },
   "file_extension": ".py",
   "mimetype": "text/x-python",
   "name": "python",
   "nbconvert_exporter": "python",
   "pygments_lexer": "ipython3",
   "version": "3.7.7"
  }
 },
 "nbformat": 4,
 "nbformat_minor": 4
}
