{
 "cells": [
  {
   "cell_type": "markdown",
   "metadata": {},
   "source": [
    "https://pandas-profiling.github.io/pandas-profiling/docs/\n",
    "\n",
    "This is code to generate the profile Adam started. I used conda to install\n",
    "the profiling libraries \n",
    "\n",
    "Assumed local directory to read and store file"
   ]
  },
  {
   "cell_type": "code",
   "execution_count": 12,
   "metadata": {},
   "outputs": [
    {
     "name": "stdout",
     "output_type": "stream",
     "text": [
      "Read CVS File\n",
      "Loaded File into Profile\n",
      "Saved File To Disk\n"
     ]
    }
   ],
   "source": [
    "import pandas as pd\n",
    "from pandas_profiling import ProfileReport\n",
    "\n",
    "df = pd.read_csv(\"FEVS_2019_PRDF.csv\") #read in file\n",
    "\n",
    "print (\"Read CVS File\")\n",
    "\n",
    "profile = ProfileReport(df, title='Pandas Profiling Report', html={'style':{'full_width':True}})\n",
    "\n",
    "print (\"Loaded File into Profile\")\n",
    "\n",
    "#generate in juptyer\n",
    "#profile.to_widgets()\n",
    "#profile.to_notebook_iframe()\n",
    "\n",
    "#print report- minimal save times but skips some cross checking \n",
    "#profile = ProfileReport(df, minimal=True)\n",
    "profile.to_file(output_file=\"report.html\")\n",
    "\n",
    "\n",
    "print (\"Saved File To Disk\")"
   ]
  },
  {
   "cell_type": "code",
   "execution_count": null,
   "metadata": {},
   "outputs": [],
   "source": []
  }
 ],
 "metadata": {
  "kernelspec": {
   "display_name": "Python 3",
   "language": "python",
   "name": "python3"
  },
  "language_info": {
   "codemirror_mode": {
    "name": "ipython",
    "version": 3
   },
   "file_extension": ".py",
   "mimetype": "text/x-python",
   "name": "python",
   "nbconvert_exporter": "python",
   "pygments_lexer": "ipython3",
   "version": "3.7.4"
  }
 },
 "nbformat": 4,
 "nbformat_minor": 4
}
